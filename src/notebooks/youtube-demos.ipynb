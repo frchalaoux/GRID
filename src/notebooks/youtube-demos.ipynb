{
  "cells": [
    {
      "cell_type": "markdown",
      "metadata": {
        "id": "BTjutHdb9jaL"
      },
      "source": [
        "# Dazbo's YouTube and Video Demos\n",
        "\n",
        "## Overview\n",
        "\n",
        "Examples of how to work with YouTube videos using Python. Here I'll demonstrate:\n",
        "\n",
        "- How to [download videos and extract audio](#downloading-videos-and-extracting-audio)\n",
        "- How to [transcribe audio to text using a speech-to-text API](#extracting-audio-using-python-speech-recognition)\n",
        "- How to [extract existing transcripts and translate](#extract-existing-transcripts-from-videos)\n",
        "\n",
        "**To run this notebook, first execute the cells in the [Setup](#Setup) section, as described below.** Then you can experiment with any of the subsequent cells.\n",
        "\n",
        "A few useful notes:\n",
        "\n",
        "- The source for this notebook source lives in my GitHub repo, <a href=\"https://github.com/derailed-dash/youtube-and-video\" target=\"_blank\">Youtube-and-Video</a>.\n",
        "- Check out further guidance - including tips on how to run the notebook, in the project's `README.md`.\n",
        "- For example, you could...\n",
        "  - Run the notebook locally, in your own Jupyter environment.\n",
        "  - Run the notebook in a cloud-based Jupyter environment, with no setup required on your part! For example, with **Google Colab**: <br><br><a href=\"https://colab.research.google.com/github/derailed-dash/youtube-and-video/blob/main/src/notebooks/youtube-demos.ipynb\" target=\"_blank\"><img src=\"https://colab.research.google.com/assets/colab-badge.svg\" alt=\"Google Colab\"/></a><br><br>It looks like this:<br><br><img src=\"https://github.com/derailed-dash/youtube-and-video/blob/main/src/notebooks/static/images/collab-view.png?raw=1\" width=\"640px\"></img>\n",
        "- For more ways to run Jupyter Notebooks, check out [my guide](https://medium.com/python-in-plain-english/five-ways-to-run-jupyter-labs-and-notebooks-23209f71e5c0).\n"
      ]
    },
    {
      "cell_type": "markdown",
      "metadata": {
        "id": "OBBA13GG9jaS"
      },
      "source": [
        "## Setup"
      ]
    },
    {
      "cell_type": "markdown",
      "metadata": {
        "id": "etihGh_29jaT"
      },
      "source": [
        "### Packages\n",
        "\n",
        "First, let's install any dependent packages:"
      ]
    },
    {
      "cell_type": "code",
      "execution_count": 1,
      "metadata": {
        "id": "G-JzTO_C9jaU",
        "outputId": "9495bd76-2679-43b5-8e28-2fc5adaf0e12",
        "colab": {
          "base_uri": "https://localhost:8080/"
        }
      },
      "outputs": [
        {
          "output_type": "stream",
          "name": "stdout",
          "text": [
            "Collecting python-dotenv\n",
            "  Downloading python_dotenv-1.0.1-py3-none-any.whl.metadata (23 kB)\n",
            "Collecting dazbo-commons\n",
            "  Downloading dazbo_commons-0.1.5-py3-none-any.whl.metadata (5.7 kB)\n",
            "Collecting pytubefix\n",
            "  Downloading pytubefix-8.3.0-py3-none-any.whl.metadata (6.5 kB)\n",
            "Requirement already satisfied: moviepy in /usr/local/lib/python3.10/dist-packages (1.0.3)\n",
            "Collecting yt_dlp\n",
            "  Downloading yt_dlp-2024.11.4-py3-none-any.whl.metadata (172 kB)\n",
            "\u001b[2K     \u001b[90m━━━━━━━━━━━━━━━━━━━━━━━━━━━━━━━━━━━━━━━━\u001b[0m \u001b[32m172.1/172.1 kB\u001b[0m \u001b[31m30.9 MB/s\u001b[0m eta \u001b[36m0:00:00\u001b[0m\n",
            "\u001b[?25hCollecting colorama>=0.4.6 (from dazbo-commons)\n",
            "  Downloading colorama-0.4.6-py2.py3-none-any.whl.metadata (17 kB)\n",
            "Requirement already satisfied: decorator<5.0,>=4.0.2 in /usr/local/lib/python3.10/dist-packages (from moviepy) (4.4.2)\n",
            "Requirement already satisfied: tqdm<5.0,>=4.11.2 in /usr/local/lib/python3.10/dist-packages (from moviepy) (4.66.6)\n",
            "Requirement already satisfied: requests<3.0,>=2.8.1 in /usr/local/lib/python3.10/dist-packages (from moviepy) (2.32.3)\n",
            "Requirement already satisfied: proglog<=1.0.0 in /usr/local/lib/python3.10/dist-packages (from moviepy) (0.1.10)\n",
            "Requirement already satisfied: numpy>=1.17.3 in /usr/local/lib/python3.10/dist-packages (from moviepy) (1.26.4)\n",
            "Requirement already satisfied: imageio<3.0,>=2.5 in /usr/local/lib/python3.10/dist-packages (from moviepy) (2.36.0)\n",
            "Requirement already satisfied: imageio-ffmpeg>=0.2.0 in /usr/local/lib/python3.10/dist-packages (from moviepy) (0.5.1)\n",
            "Requirement already satisfied: pillow>=8.3.2 in /usr/local/lib/python3.10/dist-packages (from imageio<3.0,>=2.5->moviepy) (10.4.0)\n",
            "Requirement already satisfied: setuptools in /usr/local/lib/python3.10/dist-packages (from imageio-ffmpeg>=0.2.0->moviepy) (75.1.0)\n",
            "Requirement already satisfied: charset-normalizer<4,>=2 in /usr/local/lib/python3.10/dist-packages (from requests<3.0,>=2.8.1->moviepy) (3.4.0)\n",
            "Requirement already satisfied: idna<4,>=2.5 in /usr/local/lib/python3.10/dist-packages (from requests<3.0,>=2.8.1->moviepy) (3.10)\n",
            "Requirement already satisfied: urllib3<3,>=1.21.1 in /usr/local/lib/python3.10/dist-packages (from requests<3.0,>=2.8.1->moviepy) (2.2.3)\n",
            "Requirement already satisfied: certifi>=2017.4.17 in /usr/local/lib/python3.10/dist-packages (from requests<3.0,>=2.8.1->moviepy) (2024.8.30)\n",
            "Downloading python_dotenv-1.0.1-py3-none-any.whl (19 kB)\n",
            "Downloading dazbo_commons-0.1.5-py3-none-any.whl (8.1 kB)\n",
            "Downloading pytubefix-8.3.0-py3-none-any.whl (84 kB)\n",
            "\u001b[2K   \u001b[90m━━━━━━━━━━━━━━━━━━━━━━━━━━━━━━━━━━━━━━━━\u001b[0m \u001b[32m84.1/84.1 kB\u001b[0m \u001b[31m16.7 MB/s\u001b[0m eta \u001b[36m0:00:00\u001b[0m\n",
            "\u001b[?25hDownloading yt_dlp-2024.11.4-py3-none-any.whl (3.2 MB)\n",
            "\u001b[2K   \u001b[90m━━━━━━━━━━━━━━━━━━━━━━━━━━━━━━━━━━━━━━━━\u001b[0m \u001b[32m3.2/3.2 MB\u001b[0m \u001b[31m32.6 MB/s\u001b[0m eta \u001b[36m0:00:00\u001b[0m\n",
            "\u001b[?25hDownloading colorama-0.4.6-py2.py3-none-any.whl (25 kB)\n",
            "Installing collected packages: yt_dlp, pytubefix, python-dotenv, colorama, dazbo-commons\n",
            "Successfully installed colorama-0.4.6 dazbo-commons-0.1.5 python-dotenv-1.0.1 pytubefix-8.3.0 yt_dlp-2024.11.4\n"
          ]
        }
      ],
      "source": [
        "%pip install --upgrade --no-cache-dir python-dotenv dazbo-commons pytubefix moviepy yt_dlp"
      ]
    },
    {
      "cell_type": "code",
      "execution_count": 2,
      "metadata": {
        "id": "2qOdiQxQ9jaW"
      },
      "outputs": [],
      "source": [
        "import IPython\n",
        "from IPython.display import display\n",
        "from IPython.core.display import Markdown\n",
        "\n",
        "import logging\n",
        "import re\n",
        "import io\n",
        "import sys\n",
        "from pathlib import Path\n",
        "from dataclasses import dataclass\n",
        "import dazbo_commons as dc\n",
        "from dotenv import load_dotenv"
      ]
    },
    {
      "cell_type": "code",
      "execution_count": 3,
      "metadata": {
        "id": "ntCbv4Gq9jaX"
      },
      "outputs": [],
      "source": [
        "# Colab requires an older version of Ipykernel\n",
        "if not \"google.colab\" in sys.modules:\n",
        "    pass\n",
        "    %pip install --upgrade --no-cache-dir ipykernel\n",
        ""
      ]
    },
    {
      "cell_type": "markdown",
      "metadata": {
        "id": "Ua_Vnyhj9jaY"
      },
      "source": [
        "### Logging\n",
        "\n",
        "Now we'll setup logging. Here I'm using coloured logging from my [dazbo-commons](https://pypi.org/project/dazbo-commons/) package. Feel free to change the logging level."
      ]
    },
    {
      "cell_type": "code",
      "execution_count": 4,
      "metadata": {
        "id": "ibqy07aL9jaY",
        "outputId": "945a3531-8178-4ab2-e75b-9af9310fe5ea",
        "colab": {
          "base_uri": "https://localhost:8080/"
        }
      },
      "outputs": [
        {
          "output_type": "stream",
          "name": "stderr",
          "text": [
            "\u001b[32m14:54:43.806:dazbo-yt-demos - INF: Logger initialised.\u001b[39m\n",
            "\u001b[34m14:54:43.809:dazbo-yt-demos - DBG: DEBUG level logging enabled.\u001b[39m\n"
          ]
        }
      ],
      "source": [
        "# Setup logging\n",
        "APP_NAME=\"dazbo-yt-demos\"\n",
        "logger = dc.retrieve_console_logger(APP_NAME)\n",
        "logger.setLevel(logging.DEBUG)\n",
        "logger.info(\"Logger initialised.\")\n",
        "logger.debug(\"DEBUG level logging enabled.\")"
      ]
    },
    {
      "cell_type": "markdown",
      "metadata": {
        "id": "SnTuKmjh9jaZ"
      },
      "source": [
        "### File Locations\n",
        "\n",
        "Here we initialise some file path locations, e.g. an output folder."
      ]
    },
    {
      "cell_type": "code",
      "execution_count": 5,
      "metadata": {
        "id": "D1iE9Aft9jaZ",
        "outputId": "3075d381-4a2f-453a-90e0-d512cf0ff2b8",
        "colab": {
          "base_uri": "https://localhost:8080/"
        }
      },
      "outputs": [
        {
          "output_type": "stream",
          "name": "stderr",
          "text": [
            "\u001b[34m14:54:43.823:dazbo-yt-demos - DBG: script_name: dazbo-yt-demos\u001b[39m\n",
            "\u001b[34m14:54:43.826:dazbo-yt-demos - DBG: script_dir: /content/dazbo-yt-demos\u001b[39m\n",
            "\u001b[34m14:54:43.828:dazbo-yt-demos - DBG: input_dir: /content/dazbo-yt-demos/input\u001b[39m\n",
            "\u001b[34m14:54:43.830:dazbo-yt-demos - DBG: output_dir: /content/dazbo-yt-demos/output\u001b[39m\n",
            "\u001b[34m14:54:43.835:dazbo-yt-demos - DBG: input_file: /content/dazbo-yt-demos/input/input.txt\u001b[39m\n"
          ]
        }
      ],
      "source": [
        "locations = dc.get_locations(APP_NAME)\n",
        "for attribute, value in vars(locations).items():\n",
        "    logger.debug(f\"{attribute}: {value}\")"
      ]
    },
    {
      "cell_type": "markdown",
      "metadata": {
        "id": "bK2wSbrn9jaa"
      },
      "source": [
        "### Utility Functions"
      ]
    },
    {
      "cell_type": "code",
      "execution_count": 6,
      "metadata": {
        "id": "bqVgCqLR9jaa"
      },
      "outputs": [],
      "source": [
        "def clean_filename(filename):\n",
        "    \"\"\" Create a clean filename by removing unallowed characters. \"\"\"\n",
        "    pattern = r'[^a-zA-Z0-9._\\s-]'\n",
        "    return  re.sub(pattern, '_', filename)"
      ]
    },
    {
      "cell_type": "markdown",
      "metadata": {
        "id": "BxV3wWFw9jab"
      },
      "source": [
        "### Install Additional Packages\n",
        "\n",
        "- [ffmpeg](https://ffmpeg.org/): a useful utility for video and audio format conversion. Many Python libraries use it. It will not generally be used by this notebook, but if you run into errors requiring ffmpeg, you will want to run this section."
      ]
    },
    {
      "cell_type": "code",
      "execution_count": 7,
      "metadata": {
        "id": "MDh4IcIH9jac",
        "outputId": "0c98f888-bb4c-4aa5-b806-87ab17888f40",
        "colab": {
          "base_uri": "https://localhost:8080/"
        }
      },
      "outputs": [
        {
          "output_type": "stream",
          "name": "stderr",
          "text": [
            "\u001b[34m14:54:43.859:dazbo-yt-demos - DBG: Checking if ffmpeg is installed\u001b[39m\n",
            "\u001b[34m14:54:44.956:dazbo-yt-demos - DBG: ffmpeg version: ffmpeg version 4.4.2-0ubuntu0.22.04.1 Copyright (c) 2000-2021 the FFmpeg developers\n",
            "built with gcc 11 (Ubuntu 11.2.0-19ubuntu1)\n",
            "configuration: --prefix=/usr --extra-version=0ubuntu0.22.04.1 --toolchain=hardened --libdir=/usr/lib/x86_64-linux-gnu --incdir=/usr/include/x86_64-linux-gnu --arch=amd64 --enable-gpl --disable-stripping --enable-gnutls --enable-ladspa --enable-libaom --enable-libass --enable-libbluray --enable-libbs2b --enable-libcaca --enable-libcdio --enable-libcodec2 --enable-libdav1d --enable-libflite --enable-libfontconfig --enable-libfreetype --enable-libfribidi --enable-libgme --enable-libgsm --enable-libjack --enable-libmp3lame --enable-libmysofa --enable-libopenjpeg --enable-libopenmpt --enable-libopus --enable-libpulse --enable-librabbitmq --enable-librubberband --enable-libshine --enable-libsnappy --enable-libsoxr --enable-libspeex --enable-libsrt --enable-libssh --enable-libtheora --enable-libtwolame --enable-libvidstab --enable-libvorbis --enable-libvpx --enable-libwebp --enable-libx265 --enable-libxml2 --enable-libxvid --enable-libzimg --enable-libzmq --enable-libzvbi --enable-lv2 --enable-omx --enable-openal --enable-opencl --enable-opengl --enable-sdl2 --enable-pocketsphinx --enable-librsvg --enable-libmfx --enable-libdc1394 --enable-libdrm --enable-libiec61883 --enable-chromaprint --enable-frei0r --enable-libx264 --enable-shared\n",
            "libavutil      56. 70.100 / 56. 70.100\n",
            "libavcodec     58.134.100 / 58.134.100\n",
            "libavformat    58. 76.100 / 58. 76.100\n",
            "libavdevice    58. 13.100 / 58. 13.100\n",
            "libavfilter     7.110.100 /  7.110.100\n",
            "libswscale      5.  9.100 /  5.  9.100\n",
            "libswresample   3.  9.100 /  3.  9.100\n",
            "libpostproc    55.  9.100 / 55.  9.100\u001b[39m\n",
            "\u001b[34m14:54:44.959:dazbo-yt-demos - DBG: ffmpeg is already installed.\u001b[39m\n"
          ]
        }
      ],
      "source": [
        "import os\n",
        "import platform\n",
        "import subprocess\n",
        "\n",
        "def run_command(command):\n",
        "    \"\"\"Run a shell command and print its output in real-time.\"\"\"\n",
        "    process = subprocess.Popen(\n",
        "        command,\n",
        "        shell=True,\n",
        "        stdout=subprocess.PIPE,\n",
        "        stderr=subprocess.PIPE\n",
        "    )\n",
        "\n",
        "    # Read and print the output line by line\n",
        "    if process.stdout is not None:\n",
        "        for line in iter(process.stdout.readline, b''):\n",
        "            logger.info(line.decode().strip())\n",
        "        process.stdout.close()\n",
        "\n",
        "    process.wait()\n",
        "\n",
        "def install_ffmpeg():\n",
        "    \"\"\" Install required system software, like ffmpeg \"\"\"\n",
        "    os_name = platform.system()\n",
        "    logger.info(f\"Installing packages on {os_name}...\")\n",
        "\n",
        "    if os_name == \"Windows\":\n",
        "        run_command(\"winget install ffmpeg --no-upgrade\")\n",
        "    elif os_name == \"Linux\":\n",
        "        run_command(\"apt-get -qq update && apt-get -qq -y install ffmpeg\")\n",
        "    elif os_name == \"Darwin\":\n",
        "        run_command(\"brew install ffmpeg\")\n",
        "    else:\n",
        "        logger.error(f\"Unsupported operating system: {os_name}\")\n",
        "\n",
        "try:\n",
        "    logger.debug(\"Checking if ffmpeg is installed\")\n",
        "    output = subprocess.check_output([\"ffmpeg\", \"-version\"])\n",
        "    logger.debug(f\"ffmpeg version: {output.decode().strip()}\")\n",
        "    mpeg_installed = True\n",
        "    logger.debug(\"ffmpeg is already installed.\")\n",
        "except subprocess.CalledProcessError:\n",
        "    logger.debug(\"ffmpeg is not installed.\")\n",
        "    mpeg_installed = False\n",
        "\n",
        "if not mpeg_installed:\n",
        "    logger.info(\"Installing ffmpeg...\")\n",
        "    install_ffmpeg()\n"
      ]
    },
    {
      "cell_type": "markdown",
      "metadata": {
        "id": "h3x_81-A9jac"
      },
      "source": [
        "Now we'll check `ffmpeg` has been installed.\n",
        "\n",
        "On Windows, this may not have been added to your path. If so, you can check your default install location using `winget --info`, and then add it to your path."
      ]
    },
    {
      "cell_type": "code",
      "execution_count": 8,
      "metadata": {
        "id": "85fjv-UT9jad",
        "outputId": "fe49de34-87e6-421b-9e98-f527bbdb1367",
        "colab": {
          "base_uri": "https://localhost:8080/"
        }
      },
      "outputs": [
        {
          "output_type": "stream",
          "name": "stderr",
          "text": [
            "\u001b[32m14:54:44.976:dazbo-yt-demos - INF: Note that installed applications may not be immediately available after first installing.\n",
            "It may be necessary to relaunch the notebook environment.\u001b[39m\n"
          ]
        },
        {
          "output_type": "stream",
          "name": "stdout",
          "text": [
            "ffmpeg version 4.4.2-0ubuntu0.22.04.1 Copyright (c) 2000-2021 the FFmpeg developers\n",
            "built with gcc 11 (Ubuntu 11.2.0-19ubuntu1)\n",
            "configuration: --prefix=/usr --extra-version=0ubuntu0.22.04.1 --toolchain=hardened --libdir=/usr/lib/x86_64-linux-gnu --incdir=/usr/include/x86_64-linux-gnu --arch=amd64 --enable-gpl --disable-stripping --enable-gnutls --enable-ladspa --enable-libaom --enable-libass --enable-libbluray --enable-libbs2b --enable-libcaca --enable-libcdio --enable-libcodec2 --enable-libdav1d --enable-libflite --enable-libfontconfig --enable-libfreetype --enable-libfribidi --enable-libgme --enable-libgsm --enable-libjack --enable-libmp3lame --enable-libmysofa --enable-libopenjpeg --enable-libopenmpt --enable-libopus --enable-libpulse --enable-librabbitmq --enable-librubberband --enable-libshine --enable-libsnappy --enable-libsoxr --enable-libspeex --enable-libsrt --enable-libssh --enable-libtheora --enable-libtwolame --enable-libvidstab --enable-libvorbis --enable-libvpx --enable-libwebp --enable-libx265 --enable-libxml2 --enable-libxvid --enable-libzimg --enable-libzmq --enable-libzvbi --enable-lv2 --enable-omx --enable-openal --enable-opencl --enable-opengl --enable-sdl2 --enable-pocketsphinx --enable-librsvg --enable-libmfx --enable-libdc1394 --enable-libdrm --enable-libiec61883 --enable-chromaprint --enable-frei0r --enable-libx264 --enable-shared\n",
            "libavutil      56. 70.100 / 56. 70.100\n",
            "libavcodec     58.134.100 / 58.134.100\n",
            "libavformat    58. 76.100 / 58. 76.100\n",
            "libavdevice    58. 13.100 / 58. 13.100\n",
            "libavfilter     7.110.100 /  7.110.100\n",
            "libswscale      5.  9.100 /  5.  9.100\n",
            "libswresample   3.  9.100 /  3.  9.100\n",
            "libpostproc    55.  9.100 / 55.  9.100\n"
          ]
        }
      ],
      "source": [
        "logger.info(\"Note that installed applications may not be immediately available after first installing.\\n\" \\\n",
        "            \"It may be necessary to relaunch the notebook environment.\")\n",
        "\n",
        "!ffmpeg -version"
      ]
    },
    {
      "cell_type": "markdown",
      "metadata": {
        "id": "wfVOn-aO9jae"
      },
      "source": [
        "### Videos to Work With\n",
        "\n",
        "We start by defining a list of videos to test our application with, along with a function that takes a full YouTube URL and returns just the id portion.\n",
        "\n",
        "I’ve used these videos because…\n",
        "\n",
        "- The first is the fantastic [Burning Bridges](https://www.youtube.com/watch?v=udRAIF6MOm8) by Sigrid. The video has no embedded transcript.\n",
        "- The second is the beautiful song [I Believe](https://www.youtube.com/watch?v=CiTn4j7gVvY) by Melissa Hollick. It’s one of my favourite songs of all time. When I get a migraine, I turn off the lights, and listen to this to feel better! And for those who enjoy gaming, this song is the end titles to the amazing Wolfenstein: New Order game. This video has an embedded transcript.\n",
        "- Then we have a short [Jim Carey speech](https://www.youtube.com/watch?v=nLgHNu2N3JU), which gives us dialog without music or other ambient noise. It has an embedded transcript.\n",
        "- And finally, a [Ukrainian song](https://www.youtube.com/watch?v=d4N82wPpdg8) from Eurovision 2024, by Jerry Heil and Alyona Alyona. This gives us an opportunity to test translation. It also has an embedded transcript."
      ]
    },
    {
      "cell_type": "code",
      "execution_count": 9,
      "metadata": {
        "id": "VrwcBjMV9jax"
      },
      "outputs": [],
      "source": [
        "# Videos to download\n",
        "# urls = [\n",
        "#     \"https://www.youtube.com/watch?v=udRAIF6MOm8\",  # Sigrid - Burning Bridges (English)\n",
        "#     \"https://www.youtube.com/watch?v=CiTn4j7gVvY\",  # Melissa Hollick - I Believe (English)\n",
        "#     \"https://www.youtube.com/watch?v=nLgHNu2N3JU\",  # Jim Carey - Motivational speech (English)\n",
        "#     \"https://www.youtube.com/watch?v=d4N82wPpdg8\",  # Jerry Heil & Alyona Alyona - Teresa & Maria (Ukrainian)\n",
        "# ]\n",
        "\n",
        "urls = [\n",
        "    \"https://www.youtube.com/watch?v=qcSOav9Opko\",  # Alain Connes : « Un topo sur les topos » — Lectures grothendieckiennes.\n",
        "]\n",
        "\n",
        "def get_video_id(url: str) -> str:\n",
        "    \"\"\" Return the video ID, which is the part after 'v=' \"\"\"\n",
        "    return url.split(\"v=\")[-1]"
      ]
    },
    {
      "cell_type": "markdown",
      "metadata": {
        "id": "I0Ww5UHt9jay"
      },
      "source": [
        "## Downloading Videos and Extracting Audio\n",
        "\n",
        "Here I'll demonstrate a few different Python libraries for working with YouTube videos."
      ]
    },
    {
      "cell_type": "markdown",
      "metadata": {
        "id": "q8wL4Y5U9jaz"
      },
      "source": [
        "### Option 1 - With PyTubeFix\n",
        "\n",
        "Here I'll use the [pytubefix](https://github.com/JuanBindez/pytubefix) library to download YouTube videos, and then to download mp3 audio-only streams as files.\n",
        "\n",
        "This library is a community-maintained fork of `pytube`. It was created to provide quick fixes for issues that the official pytube library faced, particularly when YouTube's updates break `pytube`.\n",
        "\n",
        "Pros:\n",
        "\n",
        "- The library is very easy to use.\n",
        "- We can work with video, audio, channels, playlists, and even search and filter.\n",
        "- It is [well documented](https://pytubefix.readthedocs.io/en/latest/).\n",
        "- It can be used from the command line, with its simple CLI.\n",
        "- It is VERY FAST!\n",
        "\n",
        "Cons:\n",
        "\n",
        "- Does not offer some of the more sophisticated capabilities that are offered by `yt_dlp`.\n",
        "- It does not appear to set mp3 headers correctly. The mp3s are actually encoded as mp4a. I don't think this is a problem, but it's worth bearing in mind!"
      ]
    },
    {
      "cell_type": "code",
      "execution_count": 23,
      "metadata": {
        "id": "HVuboPmp9jaz",
        "outputId": "cd0a9e22-ef7a-45dc-8457-3401e8aded3b",
        "colab": {
          "base_uri": "https://localhost:8080/"
        }
      },
      "outputs": [
        {
          "output_type": "stream",
          "name": "stderr",
          "text": [
            "\u001b[32m15:18:17.436:dazbo-yt-demos - INF: Downloads progress: 1/4\u001b[39m\n",
            "\u001b[32m15:18:17.534:dazbo-yt-demos - INF: Getting: Sigrid - Burning Bridges\u001b[39m\n",
            "\u001b[32m15:18:17.536:dazbo-yt-demos - INF: Downloading video Sigrid - Burning Bridges.mp4 ...\u001b[39m\n",
            "\u001b[32m15:18:17.583:dazbo-yt-demos - INF: Creating audio...\u001b[39m\n",
            "\u001b[32m15:18:17.585:dazbo-yt-demos - INF: Done\u001b[39m\n",
            "\u001b[32m15:18:17.587:dazbo-yt-demos - INF: Downloads progress: 2/4\u001b[39m\n",
            "\u001b[32m15:18:17.681:dazbo-yt-demos - INF: Getting: Wolfenstein: The New Order - I Believe - Melissa Hollick (Official Ending Song)\u001b[39m\n",
            "\u001b[32m15:18:17.683:dazbo-yt-demos - INF: Downloading video Wolfenstein_ The New Order - I Believe - Melissa Hollick _Official Ending Song_.mp4 ...\u001b[39m\n",
            "\u001b[32m15:18:17.686:dazbo-yt-demos - INF: Creating audio...\u001b[39m\n",
            "\u001b[32m15:18:17.689:dazbo-yt-demos - INF: Done\u001b[39m\n",
            "\u001b[32m15:18:17.691:dazbo-yt-demos - INF: Downloads progress: 3/4\u001b[39m\n",
            "\u001b[32m15:18:17.786:dazbo-yt-demos - INF: Getting: Jim Carrey Commencement Speech His Father's Inspiration\u001b[39m\n",
            "\u001b[32m15:18:17.788:dazbo-yt-demos - INF: Downloading video Jim Carrey Commencement Speech His Father_s Inspiration.mp4 ...\u001b[39m\n",
            "\u001b[32m15:18:17.817:dazbo-yt-demos - INF: Creating audio...\u001b[39m\n",
            "\u001b[32m15:18:17.820:dazbo-yt-demos - INF: Done\u001b[39m\n",
            "\u001b[32m15:18:17.822:dazbo-yt-demos - INF: Downloads progress: 4/4\u001b[39m\n",
            "\u001b[32m15:18:17.933:dazbo-yt-demos - INF: Getting: alyona alyona & Jerry Heil - Teresa & Maria (LIVE) | Ukraine 🇺🇦 | Grand Final | Eurovision 2024\u001b[39m\n",
            "\u001b[32m15:18:17.936:dazbo-yt-demos - INF: Downloading video alyona alyona _ Jerry Heil - Teresa _ Maria _LIVE_ _ Ukraine __ _ Grand Final _ Eurovision 2024.mp4 ...\u001b[39m\n",
            "\u001b[32m15:18:17.939:dazbo-yt-demos - INF: Creating audio...\u001b[39m\n",
            "\u001b[32m15:18:17.941:dazbo-yt-demos - INF: Done\u001b[39m\n",
            "\u001b[32m15:18:17.944:dazbo-yt-demos - INF: Downloads finished. See files in /content/dazbo-yt-demos/output/pytubefix.\u001b[39m\n"
          ]
        }
      ],
      "source": [
        "\n",
        "from pytubefix import YouTube\n",
        "from pytubefix.cli import on_progress\n",
        "\n",
        "output_locn = f\"{locations.output_dir}/pytubefix\"\n",
        "\n",
        "def process_yt_videos():\n",
        "    for i, url in enumerate(urls):\n",
        "        logger.info(f\"Downloads progress: {i+1}/{len(urls)}\")\n",
        "\n",
        "        try:\n",
        "            yt = YouTube(url, on_progress_callback=on_progress)\n",
        "            logger.info(f\"Getting: {yt.title}\")\n",
        "            video_stream = yt.streams.get_highest_resolution()\n",
        "            if not video_stream:\n",
        "                raise Exception(\"Stream not available.\")\n",
        "\n",
        "            # YouTube resource titles may contain special characters which\n",
        "            # can't be used when saving the file. So we need to clean the filename.\n",
        "            cleaned = clean_filename(yt.title)\n",
        "\n",
        "            video_output = f\"{output_locn}/{cleaned}.mp4\"\n",
        "            logger.info(f\"Downloading video {cleaned}.mp4 ...\")\n",
        "            video_stream.download(output_path=output_locn, filename=f\"{cleaned}.mp4\")\n",
        "\n",
        "            logger.info(f\"Creating audio...\")\n",
        "            audio_stream = yt.streams.get_audio_only()\n",
        "            audio_stream.download(output_path=output_locn, filename=cleaned, mp3=True)\n",
        "\n",
        "            logger.info(\"Done\")\n",
        "\n",
        "        except Exception as e:\n",
        "            logger.error(f\"Error processing URL '{url}'.\")\n",
        "            logger.debug(f\"The cause was: {e}\")\n",
        "\n",
        "    logger.info(f\"Downloads finished. See files in {output_locn}.\")\n",
        "\n",
        "process_yt_videos()\n"
      ]
    },
    {
      "cell_type": "code",
      "source": [
        "from google.colab import drive\n",
        "drive.mount('/content/drive')"
      ],
      "metadata": {
        "id": "foICuaXSBsLB"
      },
      "execution_count": null,
      "outputs": []
    },
    {
      "cell_type": "markdown",
      "metadata": {
        "id": "Y4BstV6W9ja0"
      },
      "source": [
        "### Option 2 - PyTubeFix and MoviePy\n",
        "\n",
        "Here I'm doing the same as before, but I'm extracting the audio using the Python [MoviePy](https://github.com/Zulko/moviepy) library. This is a powerful video and audio editing library.\n",
        "\n",
        "Pros:\n",
        "\n",
        "- We can extract audio as mp3 with correct headers.\n",
        "- It is [well documented](https://zulko.github.io/moviepy/).\n",
        "- It is powerful.\n",
        "\n",
        "Cons:\n",
        "\n",
        "- It is slower to extract the audio than using `pytubefix` alone."
      ]
    },
    {
      "cell_type": "code",
      "execution_count": 11,
      "metadata": {
        "id": "HdO5tbEw9ja0",
        "outputId": "26ec84a6-02ef-48ac-e09b-b51d517ec371",
        "colab": {
          "base_uri": "https://localhost:8080/"
        }
      },
      "outputs": [
        {
          "output_type": "stream",
          "name": "stderr",
          "text": [
            "WARNING:py.warnings:/usr/local/lib/python3.10/dist-packages/moviepy/video/io/sliders.py:61: SyntaxWarning: \"is\" with a literal. Did you mean \"==\"?\n",
            "  if event.key is 'enter':\n",
            "\n",
            "\u001b[32m14:54:52.566:dazbo-yt-demos - INF: Downloads progress: 1/4\u001b[39m\n",
            "\u001b[32m14:54:52.740:dazbo-yt-demos - INF: Getting: Sigrid - Burning Bridges\u001b[39m\n",
            "\u001b[32m14:54:52.748:dazbo-yt-demos - INF: Downloading video Sigrid - Burning Bridges.mp4 ...\u001b[39m\n"
          ]
        },
        {
          "output_type": "stream",
          "name": "stdout",
          "text": [
            " ↳ |███████████████████████████████████████████████████████| 100.0%\r"
          ]
        },
        {
          "output_type": "stream",
          "name": "stderr",
          "text": [
            "\u001b[32m14:54:53.103:dazbo-yt-demos - INF: Creating audio...\u001b[39m\n"
          ]
        },
        {
          "output_type": "stream",
          "name": "stdout",
          "text": [
            "MoviePy - Writing audio in /content/dazbo-yt-demos/output/pytubefix_with_moviepy/Sigrid - Burning Bridges.mp3\n"
          ]
        },
        {
          "output_type": "stream",
          "name": "stderr",
          "text": [
            "\u001b[32m14:55:07.922:dazbo-yt-demos - INF: Done\u001b[39m\n",
            "\u001b[32m14:55:07.923:dazbo-yt-demos - INF: Downloads progress: 2/4\u001b[39m\n",
            "\u001b[32m14:55:08.055:dazbo-yt-demos - INF: Getting: Wolfenstein: The New Order - I Believe - Melissa Hollick (Official Ending Song)\u001b[39m\n",
            "\u001b[32m14:55:08.068:dazbo-yt-demos - INF: Downloading video Wolfenstein_ The New Order - I Believe - Melissa Hollick _Official Ending Song_.mp4 ...\u001b[39m\n"
          ]
        },
        {
          "output_type": "stream",
          "name": "stdout",
          "text": [
            "MoviePy - Done.\n"
          ]
        },
        {
          "output_type": "stream",
          "name": "stderr",
          "text": [
            "\u001b[32m14:55:08.335:dazbo-yt-demos - INF: Creating audio...\u001b[39m\n"
          ]
        },
        {
          "output_type": "stream",
          "name": "stdout",
          "text": [
            "MoviePy - Writing audio in /content/dazbo-yt-demos/output/pytubefix_with_moviepy/Wolfenstein_ The New Order - I Believe - Melissa Hollick _Official Ending Song_.mp3\n"
          ]
        },
        {
          "output_type": "stream",
          "name": "stderr",
          "text": [
            "\u001b[32m14:55:32.803:dazbo-yt-demos - INF: Done\u001b[39m\n",
            "\u001b[32m14:55:32.805:dazbo-yt-demos - INF: Downloads progress: 3/4\u001b[39m\n"
          ]
        },
        {
          "output_type": "stream",
          "name": "stdout",
          "text": [
            "MoviePy - Done.\n"
          ]
        },
        {
          "output_type": "stream",
          "name": "stderr",
          "text": [
            "\u001b[32m14:55:33.020:dazbo-yt-demos - INF: Getting: Jim Carrey Commencement Speech His Father's Inspiration\u001b[39m\n",
            "\u001b[32m14:55:33.023:dazbo-yt-demos - INF: Downloading video Jim Carrey Commencement Speech His Father_s Inspiration.mp4 ...\u001b[39m\n"
          ]
        },
        {
          "output_type": "stream",
          "name": "stdout",
          "text": [
            " ↳ |███████████████████████████████████████████████████████| 100.0%\r"
          ]
        },
        {
          "output_type": "stream",
          "name": "stderr",
          "text": [
            "\u001b[32m14:55:33.438:dazbo-yt-demos - INF: Creating audio...\u001b[39m\n"
          ]
        },
        {
          "output_type": "stream",
          "name": "stdout",
          "text": [
            "MoviePy - Writing audio in /content/dazbo-yt-demos/output/pytubefix_with_moviepy/Jim Carrey Commencement Speech His Father_s Inspiration.mp3\n"
          ]
        },
        {
          "output_type": "stream",
          "name": "stderr",
          "text": [
            "\u001b[32m14:55:36.447:dazbo-yt-demos - INF: Done\u001b[39m\n",
            "\u001b[32m14:55:36.450:dazbo-yt-demos - INF: Downloads progress: 4/4\u001b[39m\n",
            "\u001b[32m14:55:36.549:dazbo-yt-demos - INF: Getting: alyona alyona & Jerry Heil - Teresa & Maria (LIVE) | Ukraine 🇺🇦 | Grand Final | Eurovision 2024\u001b[39m\n",
            "\u001b[32m14:55:36.553:dazbo-yt-demos - INF: Downloading video alyona alyona _ Jerry Heil - Teresa _ Maria _LIVE_ _ Ukraine __ _ Grand Final _ Eurovision 2024.mp4 ...\u001b[39m\n"
          ]
        },
        {
          "output_type": "stream",
          "name": "stdout",
          "text": [
            "MoviePy - Done.\n"
          ]
        },
        {
          "output_type": "stream",
          "name": "stderr",
          "text": [
            "\u001b[32m14:55:37.154:dazbo-yt-demos - INF: Creating audio...\u001b[39m\n"
          ]
        },
        {
          "output_type": "stream",
          "name": "stdout",
          "text": [
            "MoviePy - Writing audio in /content/dazbo-yt-demos/output/pytubefix_with_moviepy/alyona alyona _ Jerry Heil - Teresa _ Maria _LIVE_ _ Ukraine __ _ Grand Final _ Eurovision 2024.mp3\n"
          ]
        },
        {
          "output_type": "stream",
          "name": "stderr",
          "text": [
            "\u001b[32m14:55:44.463:dazbo-yt-demos - INF: Done\u001b[39m\n",
            "\u001b[32m14:55:44.467:dazbo-yt-demos - INF: Downloads finished. See files in /content/dazbo-yt-demos/output/pytubefix_with_moviepy.\u001b[39m\n"
          ]
        },
        {
          "output_type": "stream",
          "name": "stdout",
          "text": [
            "MoviePy - Done.\n"
          ]
        }
      ],
      "source": [
        "\n",
        "from pytubefix import YouTube\n",
        "from pytubefix.cli import on_progress\n",
        "from moviepy.editor import VideoFileClip\n",
        "\n",
        "output_locn = f\"{locations.output_dir}/pytubefix_with_moviepy\"\n",
        "\n",
        "def process_yt_videos():\n",
        "    for i, url in enumerate(urls):\n",
        "        logger.info(f\"Downloads progress: {i+1}/{len(urls)}\")\n",
        "\n",
        "        try:\n",
        "            yt = YouTube(url, on_progress_callback=on_progress)\n",
        "            logger.info(f\"Getting: {yt.title}\")\n",
        "            video_stream = yt.streams.get_highest_resolution()\n",
        "            if not video_stream:\n",
        "                raise Exception(\"Stream not available.\")\n",
        "\n",
        "            # YouTube resource titles may contain special characters which\n",
        "            # can't be used when saving the file. So we need to clean the filename.\n",
        "            cleaned = clean_filename(yt.title)\n",
        "\n",
        "            video_output = f\"{output_locn}/{cleaned}.mp4\"\n",
        "            logger.info(f\"Downloading video {cleaned}.mp4 ...\")\n",
        "            video_stream.download(output_path=output_locn, filename=f\"{cleaned}.mp4\")\n",
        "\n",
        "            logger.info(f\"Creating audio...\")\n",
        "            video_clip = VideoFileClip(video_output) # purely to give us access to methods\n",
        "            assert video_clip.audio is not None\n",
        "            video_clip.audio.write_audiofile(f\"{output_locn}/{cleaned}.mp3\")\n",
        "            video_clip.close()\n",
        "\n",
        "            logger.info(\"Done\")\n",
        "\n",
        "        except Exception as e:\n",
        "            logger.error(f\"Error processing URL '{url}'.\")\n",
        "            logger.debug(f\"The cause was: {e}\")\n",
        "\n",
        "    logger.info(f\"Downloads finished. See files in {output_locn}.\")\n",
        "\n",
        "process_yt_videos()"
      ]
    },
    {
      "cell_type": "markdown",
      "metadata": {
        "id": "AJN4gr2C9ja0"
      },
      "source": [
        "### Option 3 - With YT_DLP\n",
        "\n",
        "I wanted to try the other popular YouTube package: [yt-dlp](https://pypi.org/project/yt-dlp/). The [repo](https://github.com/yt-dlp/yt-dlp) is a fork of the now unmaintained `youtube-dl`.\n",
        "\n",
        "Pros:\n",
        "\n",
        "- It is very powerful, with far more options and features than `pytubefix`.\n",
        "- It can be installed as a standalone command-line executable, or as a pip-installable Python package.\n",
        "- Sets mp3 headers properly!\n",
        "- It has some powerful and network proxy settings. This can be useful if, for example, you are trying to download videos that are geo-restricted.\n",
        "\n",
        "Cons:\n",
        "\n",
        "- It is more complicated to use.\n",
        "- The documentation is complex and somewhat hard to understand. And there's no real Python-specific documentation.\n",
        "- It depends on having ffmpeg installed for some use cases.\n",
        "- It is significantly slower that `pytubefix` for performing video download and audio extraction.\n"
      ]
    },
    {
      "cell_type": "code",
      "execution_count": 12,
      "metadata": {
        "id": "ds2hdX6W9ja1",
        "outputId": "a63891c6-0eae-448d-f869-b1add947ebb3",
        "colab": {
          "base_uri": "https://localhost:8080/"
        }
      },
      "outputs": [
        {
          "output_type": "stream",
          "name": "stderr",
          "text": [
            "\u001b[32m14:55:44.628:dazbo-yt-demos - INF: Downloads progress: 1/4\u001b[39m\n",
            "\u001b[32m14:55:44.832:dazbo-yt-demos - INF: Downloading video...\u001b[39m\n"
          ]
        },
        {
          "output_type": "stream",
          "name": "stdout",
          "text": [
            "[youtube] Extracting URL: https://www.youtube.com/watch?v=udRAIF6MOm8\n",
            "[youtube] udRAIF6MOm8: Downloading webpage\n",
            "[youtube] udRAIF6MOm8: Downloading ios player API JSON\n",
            "[youtube] udRAIF6MOm8: Downloading mweb player API JSON\n",
            "[youtube] udRAIF6MOm8: Downloading player 81ef9024\n",
            "[youtube] udRAIF6MOm8: Downloading m3u8 information\n",
            "[info] udRAIF6MOm8: Downloading 1 format(s): 18\n",
            "[download] Destination: /content/dazbo-yt-demos/output/yt_dlp/Sigrid - Burning Bridges.mp4\n",
            "[download] 100% of    4.78MiB in 00:00:00 at 15.37MiB/s  \n"
          ]
        },
        {
          "output_type": "stream",
          "name": "stderr",
          "text": [
            "\u001b[32m14:55:50.419:dazbo-yt-demos - INF: Extracting and saving audio as MP3...\u001b[39m\n"
          ]
        },
        {
          "output_type": "stream",
          "name": "stdout",
          "text": [
            "[youtube] Extracting URL: https://www.youtube.com/watch?v=udRAIF6MOm8\n",
            "[youtube] udRAIF6MOm8: Downloading webpage\n",
            "[youtube] udRAIF6MOm8: Downloading ios player API JSON\n",
            "[youtube] udRAIF6MOm8: Downloading mweb player API JSON\n",
            "[youtube] udRAIF6MOm8: Downloading m3u8 information\n",
            "[info] udRAIF6MOm8: Downloading 1 format(s): 251\n",
            "[download] Destination: /content/dazbo-yt-demos/output/yt_dlp/Sigrid - Burning Bridges.webm\n",
            "[download] 100% of    2.76MiB in 00:00:00 at 13.95MiB/s  \n",
            "[ExtractAudio] Destination: /content/dazbo-yt-demos/output/yt_dlp/Sigrid - Burning Bridges.mp3\n",
            "Deleting original file /content/dazbo-yt-demos/output/yt_dlp/Sigrid - Burning Bridges.webm (pass -k to keep)\n"
          ]
        },
        {
          "output_type": "stream",
          "name": "stderr",
          "text": [
            "\u001b[32m14:56:01.142:dazbo-yt-demos - INF: Downloads progress: 2/4\u001b[39m\n",
            "\u001b[32m14:56:01.301:dazbo-yt-demos - INF: Downloading video...\u001b[39m\n"
          ]
        },
        {
          "output_type": "stream",
          "name": "stdout",
          "text": [
            "[youtube] Extracting URL: https://www.youtube.com/watch?v=CiTn4j7gVvY\n",
            "[youtube] CiTn4j7gVvY: Downloading webpage\n",
            "[youtube] CiTn4j7gVvY: Downloading ios player API JSON\n",
            "[youtube] CiTn4j7gVvY: Downloading mweb player API JSON\n",
            "[youtube] CiTn4j7gVvY: Downloading m3u8 information\n",
            "[info] CiTn4j7gVvY: Downloading 1 format(s): 18\n",
            "[download] Destination: /content/dazbo-yt-demos/output/yt_dlp/Wolfenstein： The New Order - I Believe - Melissa Hollick (Official Ending Song).mp4\n",
            "[download] 100% of    6.02MiB in 00:00:00 at 15.78MiB/s  \n"
          ]
        },
        {
          "output_type": "stream",
          "name": "stderr",
          "text": [
            "\u001b[32m14:56:03.796:dazbo-yt-demos - INF: Extracting and saving audio as MP3...\u001b[39m\n"
          ]
        },
        {
          "output_type": "stream",
          "name": "stdout",
          "text": [
            "[youtube] Extracting URL: https://www.youtube.com/watch?v=CiTn4j7gVvY\n",
            "[youtube] CiTn4j7gVvY: Downloading webpage\n",
            "[youtube] CiTn4j7gVvY: Downloading ios player API JSON\n",
            "[youtube] CiTn4j7gVvY: Downloading mweb player API JSON\n",
            "[youtube] CiTn4j7gVvY: Downloading m3u8 information\n",
            "[info] CiTn4j7gVvY: Downloading 1 format(s): 251\n",
            "[download] Destination: /content/dazbo-yt-demos/output/yt_dlp/Wolfenstein： The New Order - I Believe - Melissa Hollick (Official Ending Song).webm\n",
            "[download] 100% of    6.05MiB in 00:00:00 at 15.33MiB/s  \n",
            "[ExtractAudio] Destination: /content/dazbo-yt-demos/output/yt_dlp/Wolfenstein： The New Order - I Believe - Melissa Hollick (Official Ending Song).mp3\n",
            "Deleting original file /content/dazbo-yt-demos/output/yt_dlp/Wolfenstein： The New Order - I Believe - Melissa Hollick (Official Ending Song).webm (pass -k to keep)\n"
          ]
        },
        {
          "output_type": "stream",
          "name": "stderr",
          "text": [
            "\u001b[32m14:56:21.490:dazbo-yt-demos - INF: Downloads progress: 3/4\u001b[39m\n",
            "\u001b[32m14:56:21.572:dazbo-yt-demos - INF: Downloading video...\u001b[39m\n"
          ]
        },
        {
          "output_type": "stream",
          "name": "stdout",
          "text": [
            "[youtube] Extracting URL: https://www.youtube.com/watch?v=nLgHNu2N3JU\n",
            "[youtube] nLgHNu2N3JU: Downloading webpage\n",
            "[youtube] nLgHNu2N3JU: Downloading ios player API JSON\n",
            "[youtube] nLgHNu2N3JU: Downloading mweb player API JSON\n",
            "[youtube] nLgHNu2N3JU: Downloading m3u8 information\n",
            "[info] nLgHNu2N3JU: Downloading 1 format(s): 18\n",
            "[download] Destination: /content/dazbo-yt-demos/output/yt_dlp/Jim Carrey Commencement Speech His Father's Inspiration.mp4\n",
            "[download] 100% of    3.14MiB in 00:00:00 at 8.31MiB/s   \n"
          ]
        },
        {
          "output_type": "stream",
          "name": "stderr",
          "text": [
            "\u001b[32m14:56:23.759:dazbo-yt-demos - INF: Extracting and saving audio as MP3...\u001b[39m\n"
          ]
        },
        {
          "output_type": "stream",
          "name": "stdout",
          "text": [
            "[youtube] Extracting URL: https://www.youtube.com/watch?v=nLgHNu2N3JU\n",
            "[youtube] nLgHNu2N3JU: Downloading webpage\n",
            "[youtube] nLgHNu2N3JU: Downloading ios player API JSON\n",
            "[youtube] nLgHNu2N3JU: Downloading mweb player API JSON\n",
            "[youtube] nLgHNu2N3JU: Downloading m3u8 information\n",
            "[info] nLgHNu2N3JU: Downloading 1 format(s): 251\n",
            "[download] Destination: /content/dazbo-yt-demos/output/yt_dlp/Jim Carrey Commencement Speech His Father's Inspiration.webm\n",
            "[download] 100% of  793.97KiB in 00:00:00 at 5.94MiB/s   \n",
            "[ExtractAudio] Destination: /content/dazbo-yt-demos/output/yt_dlp/Jim Carrey Commencement Speech His Father's Inspiration.mp3\n",
            "Deleting original file /content/dazbo-yt-demos/output/yt_dlp/Jim Carrey Commencement Speech His Father's Inspiration.webm (pass -k to keep)\n"
          ]
        },
        {
          "output_type": "stream",
          "name": "stderr",
          "text": [
            "\u001b[32m14:56:28.804:dazbo-yt-demos - INF: Downloads progress: 4/4\u001b[39m\n",
            "\u001b[32m14:56:28.940:dazbo-yt-demos - INF: Downloading video...\u001b[39m\n"
          ]
        },
        {
          "output_type": "stream",
          "name": "stdout",
          "text": [
            "[youtube] Extracting URL: https://www.youtube.com/watch?v=d4N82wPpdg8\n",
            "[youtube] d4N82wPpdg8: Downloading webpage\n",
            "[youtube] d4N82wPpdg8: Downloading ios player API JSON\n",
            "[youtube] d4N82wPpdg8: Downloading mweb player API JSON\n",
            "[youtube] d4N82wPpdg8: Downloading m3u8 information\n",
            "[info] d4N82wPpdg8: Downloading 1 format(s): 18\n",
            "[download] Destination: /content/dazbo-yt-demos/output/yt_dlp/alyona alyona & Jerry Heil - Teresa & Maria (LIVE) ｜ Ukraine 🇺🇦 ｜ Grand Final ｜ Eurovision 2024.mp4\n",
            "[download] 100% of   15.89MiB in 00:00:00 at 44.71MiB/s  \n"
          ]
        },
        {
          "output_type": "stream",
          "name": "stderr",
          "text": [
            "\u001b[32m14:56:32.189:dazbo-yt-demos - INF: Extracting and saving audio as MP3...\u001b[39m\n"
          ]
        },
        {
          "output_type": "stream",
          "name": "stdout",
          "text": [
            "[youtube] Extracting URL: https://www.youtube.com/watch?v=d4N82wPpdg8\n",
            "[youtube] d4N82wPpdg8: Downloading webpage\n",
            "[youtube] d4N82wPpdg8: Downloading ios player API JSON\n",
            "[youtube] d4N82wPpdg8: Downloading mweb player API JSON\n",
            "[youtube] d4N82wPpdg8: Downloading m3u8 information\n",
            "[info] d4N82wPpdg8: Downloading 1 format(s): 251\n",
            "[download] Destination: /content/dazbo-yt-demos/output/yt_dlp/alyona alyona & Jerry Heil - Teresa & Maria (LIVE) ｜ Ukraine 🇺🇦 ｜ Grand Final ｜ Eurovision 2024.webm\n",
            "[download] 100% of    2.93MiB in 00:00:00 at 14.62MiB/s  \n",
            "[ExtractAudio] Destination: /content/dazbo-yt-demos/output/yt_dlp/alyona alyona & Jerry Heil - Teresa & Maria (LIVE) ｜ Ukraine 🇺🇦 ｜ Grand Final ｜ Eurovision 2024.mp3\n",
            "Deleting original file /content/dazbo-yt-demos/output/yt_dlp/alyona alyona & Jerry Heil - Teresa & Maria (LIVE) ｜ Ukraine 🇺🇦 ｜ Grand Final ｜ Eurovision 2024.webm (pass -k to keep)\n"
          ]
        },
        {
          "output_type": "stream",
          "name": "stderr",
          "text": [
            "\u001b[32m14:56:44.976:dazbo-yt-demos - INF: Downloads finished. Check out files at /content/dazbo-yt-demos/output/yt_dlp.\u001b[39m\n"
          ]
        }
      ],
      "source": [
        "import yt_dlp\n",
        "\n",
        "output_locn = f\"{locations.output_dir}/yt_dlp\"\n",
        "\n",
        "def process_yt_videos():\n",
        "    for i, url in enumerate(urls):\n",
        "        logger.info(f\"Downloads progress: {i+1}/{len(urls)}\")\n",
        "\n",
        "        try:\n",
        "            # Options for downloading the video\n",
        "            video_opts = {\n",
        "                'format': 'best',  # Download the best quality video\n",
        "                'outtmpl': f'{output_locn}/%(title)s.%(ext)s',  # Save video in output directory\n",
        "            }\n",
        "\n",
        "            # Download the video\n",
        "            with yt_dlp.YoutubeDL(video_opts) as ydl:\n",
        "                logger.info(\"Downloading video...\")\n",
        "                ydl.download([url])\n",
        "\n",
        "            # Options for extracting audio and saving as MP3\n",
        "            audio_opts = {\n",
        "                'format': 'bestaudio',  # Download the best quality audio\n",
        "                'outtmpl': f'{output_locn}/%(title)s.%(ext)s',  # Save audio in output directory\n",
        "                'postprocessors': [{\n",
        "                    'key': 'FFmpegExtractAudio',\n",
        "                    'preferredcodec': 'mp3',\n",
        "                }],\n",
        "            }\n",
        "\n",
        "            # Download and extract audio\n",
        "            with yt_dlp.YoutubeDL(audio_opts) as ydl:\n",
        "                logger.info(\"Extracting and saving audio as MP3...\")\n",
        "                ydl.download([url])\n",
        "\n",
        "        except Exception as e:\n",
        "            logger.error(f\"Error processing URL '{url}'.\")\n",
        "            logger.debug(f\"The cause was: {e}\")\n",
        "\n",
        "    logger.info(f\"Downloads finished. Check out files at {output_locn}.\")\n",
        "\n",
        "process_yt_videos()"
      ]
    },
    {
      "cell_type": "markdown",
      "metadata": {
        "id": "3F_xLEiB9ja1"
      },
      "source": [
        "### Conclusion\n",
        "\n",
        "If you:\n",
        "\n",
        "- Want to just download the videos and/or audio in the simplest and fastest way possible, then go with [Option 1](#option-1---with-pytubefix).\n",
        "- Want to download the videos and/or audio and then carry out some sort of manipulation or conversion of the media, go with [Option 2](#option-2---pytubefix-and-moviepy).\n",
        "- If you want out-of-the-box proxy configuration, e.g. to bypass geo-restrictions, then go with [Option 3](#option-3---with-yt_dlp)."
      ]
    },
    {
      "cell_type": "markdown",
      "metadata": {
        "id": "rycahcIv9ja2"
      },
      "source": [
        "## Transcribing Audio to Text"
      ]
    },
    {
      "cell_type": "markdown",
      "metadata": {
        "id": "8qDKFek-9ja2"
      },
      "source": [
        "### Extracting Audio Using Python Speech Recognition\n",
        "\n",
        "The Python `speech_recognition` package has a number of built in `Recognizer` implementations.Here I'm using the [Google Web Speech API](https://wicg.github.io/speech-api/) `Recognizer`, which has its default API key hard coded into the Python `speech_recognition` library. It is free, but has some limitations. For example, it only allows a max of 60s segments."
      ]
    },
    {
      "cell_type": "code",
      "execution_count": 13,
      "metadata": {
        "id": "Bt_t1HmG9ja2",
        "outputId": "d7fdfb5a-3cbd-4b34-cd4c-514c8110fcbe",
        "colab": {
          "base_uri": "https://localhost:8080/"
        }
      },
      "outputs": [
        {
          "output_type": "stream",
          "name": "stdout",
          "text": [
            "Collecting pydub\n",
            "  Downloading pydub-0.25.1-py2.py3-none-any.whl.metadata (1.4 kB)\n",
            "Collecting SpeechRecognition\n",
            "  Downloading SpeechRecognition-3.11.0-py2.py3-none-any.whl.metadata (28 kB)\n",
            "Collecting ffmpeg-python\n",
            "  Downloading ffmpeg_python-0.2.0-py3-none-any.whl.metadata (1.7 kB)\n",
            "Requirement already satisfied: requests>=2.26.0 in /usr/local/lib/python3.10/dist-packages (from SpeechRecognition) (2.32.3)\n",
            "Requirement already satisfied: typing-extensions in /usr/local/lib/python3.10/dist-packages (from SpeechRecognition) (4.12.2)\n",
            "Requirement already satisfied: future in /usr/local/lib/python3.10/dist-packages (from ffmpeg-python) (1.0.0)\n",
            "Requirement already satisfied: charset-normalizer<4,>=2 in /usr/local/lib/python3.10/dist-packages (from requests>=2.26.0->SpeechRecognition) (3.4.0)\n",
            "Requirement already satisfied: idna<4,>=2.5 in /usr/local/lib/python3.10/dist-packages (from requests>=2.26.0->SpeechRecognition) (3.10)\n",
            "Requirement already satisfied: urllib3<3,>=1.21.1 in /usr/local/lib/python3.10/dist-packages (from requests>=2.26.0->SpeechRecognition) (2.2.3)\n",
            "Requirement already satisfied: certifi>=2017.4.17 in /usr/local/lib/python3.10/dist-packages (from requests>=2.26.0->SpeechRecognition) (2024.8.30)\n",
            "Downloading pydub-0.25.1-py2.py3-none-any.whl (32 kB)\n",
            "Downloading SpeechRecognition-3.11.0-py2.py3-none-any.whl (32.8 MB)\n",
            "\u001b[2K   \u001b[90m━━━━━━━━━━━━━━━━━━━━━━━━━━━━━━━━━━━━━━━━\u001b[0m \u001b[32m32.8/32.8 MB\u001b[0m \u001b[31m240.3 MB/s\u001b[0m eta \u001b[36m0:00:00\u001b[0m\n",
            "\u001b[?25hDownloading ffmpeg_python-0.2.0-py3-none-any.whl (25 kB)\n",
            "Installing collected packages: pydub, ffmpeg-python, SpeechRecognition\n",
            "Successfully installed SpeechRecognition-3.11.0 ffmpeg-python-0.2.0 pydub-0.25.1\n"
          ]
        }
      ],
      "source": [
        "%pip install --upgrade --no-cache-dir pydub SpeechRecognition ffmpeg-python"
      ]
    },
    {
      "cell_type": "code",
      "execution_count": 14,
      "metadata": {
        "id": "ShDECF0E9ja3"
      },
      "outputs": [],
      "source": [
        "import speech_recognition as sr\n",
        "from pydub import AudioSegment\n",
        "import ffmpeg\n",
        "import traceback"
      ]
    },
    {
      "cell_type": "code",
      "execution_count": 15,
      "metadata": {
        "id": "BAz_AcET9ja3",
        "outputId": "d616d468-1c03-469f-bde3-92c9645e8867",
        "colab": {
          "base_uri": "https://localhost:8080/"
        }
      },
      "outputs": [
        {
          "output_type": "stream",
          "name": "stderr",
          "text": [
            "\u001b[32m14:56:49.295:dazbo-yt-demos - INF: Converting /content/dazbo-yt-demos/output/yt_dlp/Wolfenstein： The New Order - I Believe - Melissa Hollick (Official Ending Song).mp3...\u001b[39m\n",
            "\u001b[33m14:56:57.201:dazbo-yt-demos - WRN: Chunk 0: Could not understand the audio. Maybe it was empty.\u001b[39m\n",
            "\u001b[34m14:57:12.620:dazbo-yt-demos - DBG: Chunk 1 extracted.\u001b[39m\n",
            "\u001b[33m14:57:19.115:dazbo-yt-demos - WRN: Chunk 2: Could not understand the audio. Maybe it was empty.\u001b[39m\n",
            "\u001b[33m14:57:27.912:dazbo-yt-demos - WRN: Chunk 3: Could not understand the audio. Maybe it was empty.\u001b[39m\n",
            "\u001b[34m14:57:39.230:dazbo-yt-demos - DBG: Chunk 4 extracted.\u001b[39m\n",
            "\u001b[33m14:57:43.609:dazbo-yt-demos - WRN: Chunk 5: Could not understand the audio. Maybe it was empty.\u001b[39m\n",
            "\u001b[32m14:57:43.612:dazbo-yt-demos - INF: Extract:\u001b[39m\n",
            "\u001b[32m14:57:43.613:dazbo-yt-demos - INF: 1: I believe that the stars keep shining us through the night I believe if we just keep trying it'll be alright I believe it's Sunday we're going to find a way and I believe in a beautiful day I believe in love is walking side by side I believe that someday we'll be satisfied\u001b[39m\n",
            "\u001b[32m14:57:43.615:dazbo-yt-demos - INF: 4: I believe I believe I believe I believe I believe I believe I believe I believe beautiful day\u001b[39m\n",
            "\u001b[32m14:57:43.644:dazbo-yt-demos - INF: Converting /content/dazbo-yt-demos/output/yt_dlp/Jim Carrey Commencement Speech His Father's Inspiration.mp3...\u001b[39m\n",
            "\u001b[34m14:57:57.650:dazbo-yt-demos - DBG: Chunk 0 extracted.\u001b[39m\n",
            "\u001b[33m14:57:58.094:dazbo-yt-demos - WRN: Chunk 1: Could not understand the audio. Maybe it was empty.\u001b[39m\n",
            "\u001b[32m14:57:58.095:dazbo-yt-demos - INF: Extract:\u001b[39m\n",
            "\u001b[32m14:57:58.098:dazbo-yt-demos - INF: 0: you can spend your whole life imagining ghosts worrying about the pathway to the Future but all there will ever be is what's happening here in the decisions we make in this moment which are based in either love or fear so many of us choose our path out of Fear disguised as practicality what we really want seems impossibly Out of Reach and ridiculous to expect so we never dare to ask the universe for it I'm saying I'm the proof that you can ask the universe for it my father could have been a great comedian but he didn't believe that that was possible for him and so he made a conservative choice instead he got a safe job as an account and when I was 12 years old he was let go from that safe job and our family had to do whatever we could to survive I learnt many great lessons from my father not the least of which was that you can fail at what you don't want so you might as well take a chance on doing what you love\u001b[39m\n",
            "\u001b[32m14:57:58.104:dazbo-yt-demos - INF: Converting /content/dazbo-yt-demos/output/yt_dlp/alyona alyona & Jerry Heil - Teresa & Maria (LIVE) ｜ Ukraine 🇺🇦 ｜ Grand Final ｜ Eurovision 2024.mp3...\u001b[39m\n",
            "\u001b[33m14:58:04.343:dazbo-yt-demos - WRN: Chunk 0: Could not understand the audio. Maybe it was empty.\u001b[39m\n",
            "\u001b[33m14:58:09.181:dazbo-yt-demos - WRN: Chunk 1: Could not understand the audio. Maybe it was empty.\u001b[39m\n",
            "\u001b[33m14:58:13.150:dazbo-yt-demos - WRN: Chunk 2: Could not understand the audio. Maybe it was empty.\u001b[39m\n",
            "\u001b[33m14:58:14.921:dazbo-yt-demos - WRN: Chunk 3: Could not understand the audio. Maybe it was empty.\u001b[39m\n",
            "\u001b[32m14:58:14.923:dazbo-yt-demos - INF: Extract:\u001b[39m\n",
            "\u001b[32m14:58:14.936:dazbo-yt-demos - INF: Converting /content/dazbo-yt-demos/output/yt_dlp/Sigrid - Burning Bridges.mp3...\u001b[39m\n",
            "\u001b[34m14:58:31.648:dazbo-yt-demos - DBG: Chunk 0 extracted.\u001b[39m\n",
            "\u001b[34m14:58:46.102:dazbo-yt-demos - DBG: Chunk 1 extracted.\u001b[39m\n",
            "\u001b[33m14:58:51.275:dazbo-yt-demos - WRN: Chunk 2: Could not understand the audio. Maybe it was empty.\u001b[39m\n",
            "\u001b[32m14:58:51.276:dazbo-yt-demos - INF: Extract:\u001b[39m\n",
            "\u001b[32m14:58:51.278:dazbo-yt-demos - INF: 0: I could tell you the truth but you call me a liar takeaways always crack but you said it on fire\u001b[39m\n",
            "\u001b[32m14:58:51.279:dazbo-yt-demos - INF: 1: are you sorry to keep you and I was my error because I told me before trying to hold us together\u001b[39m\n",
            "\u001b[32m14:58:51.282:dazbo-yt-demos - INF: Done\u001b[39m\n"
          ]
        }
      ],
      "source": [
        "def divide_chunks(sound, segment_size_secs=60):\n",
        "    \"\"\" Split audio file into 60s chunks \"\"\"\n",
        "\n",
        "    segment_size_ms = segment_size_secs*1000\n",
        "    for start_idx in range(0, len(sound), segment_size_ms):\n",
        "        # Yield a chunk of audio data from start_idx to start_idx + segment_size_ms\n",
        "        yield sound[start_idx:start_idx + segment_size_ms]\n",
        "\n",
        "\n",
        "def transcribe_audio():\n",
        "    \"\"\" Use Speech Recognition API with Google Web Speech API\n",
        "    to convert audio dialog to text \"\"\"\n",
        "    recogniser = sr.Recognizer()\n",
        "    for mp3_file in Path(output_locn).glob(f'*.mp3'):\n",
        "        transcribe_audio_file(recogniser, mp3_file)\n",
        "\n",
        "def transcribe_audio_file(recogniser, mp3_file, language=\"en-US\"):\n",
        "    logger.info(f\"Converting {mp3_file}...\")\n",
        "    try:\n",
        "        audio = AudioSegment.from_file(mp3_file)\n",
        "            # If AudioSegment is not working - e.g. due to broken mp3 headers - we\n",
        "            # can use ffmpeg as a workaround. However, it's a lot slower.\n",
        "            # ffmpeg.input(mp3_file).output(wav_file).run() # Convert with ffmpeg\n",
        "            # logger.info(f\"Successfully converted {mp3_file} to {wav_file}.\")\n",
        "            # audio = AudioSegment.from_wav(wav_file) # Read the audio\n",
        "\n",
        "        segments = list(divide_chunks(audio, segment_size_secs=60)) # split the wav into 60s segments\n",
        "        transcription_extracts = {}\n",
        "        for index, chunk in enumerate(segments):\n",
        "            with io.BytesIO() as wav_io:\n",
        "                chunk.export(wav_io, format='wav')\n",
        "                wav_io.seek(0)  # Move to the start of the BytesIO object before reading from it\n",
        "\n",
        "                with sr.AudioFile(wav_io) as source:\n",
        "                    audio_data = recogniser.record(source)\n",
        "\n",
        "                try:\n",
        "                    extracted = recogniser.recognize_google(audio_data, language=language)\n",
        "                    logger.debug(f\"Chunk {index} extracted.\")\n",
        "                    transcription_extracts[index] = extracted\n",
        "                except sr.UnknownValueError:\n",
        "                        # Log the unknown value error and continue\n",
        "                    logger.warning(f\"Chunk {index}: Could not understand the audio. Maybe it was empty.\")\n",
        "\n",
        "        logger.info(\"Extract:\")\n",
        "        for idx, extract in transcription_extracts.items():\n",
        "            logger.info(f\"{idx}: {extract}\")\n",
        "\n",
        "    except ffmpeg.Error as e:\n",
        "        logger.error(f\"FFmpeg failed to convert {mp3_file}: {str(e)}\")\n",
        "    except Exception as e:\n",
        "        logger.error(\"Unexpected error.\", exc_info=True)\n",
        "\n",
        "transcribe_audio()\n",
        "logger.info(\"Done\")"
      ]
    },
    {
      "cell_type": "markdown",
      "metadata": {
        "id": "g8_PT70v9ja4"
      },
      "source": [
        "### Results\n",
        "\n",
        "- It fails to transcribe the Ukrainian song. Not too surprising, since this API does not detect language automatically, and defaults to recognising English.\n",
        "- It does an amazing job with the Jim Carey speech.\n",
        "- It is partially successful when transcribing songs.\n",
        "\n",
        "### Conclusions\n",
        "\n",
        "Well, not bad, but also, not great!  It's pretty good if there's no background sound or ambient noise.  But it's pretty poor when working with songs.\n",
        "\n",
        "### Transcribing Ukrainian\n",
        "\n",
        "Let's try and transcribe from the Ukrainian song:"
      ]
    },
    {
      "cell_type": "code",
      "execution_count": 16,
      "metadata": {
        "id": "gRufa7AT9ja4",
        "outputId": "180c0c83-f504-4b1f-a311-9884eea288f2",
        "colab": {
          "base_uri": "https://localhost:8080/"
        }
      },
      "outputs": [
        {
          "output_type": "stream",
          "name": "stderr",
          "text": [
            "\u001b[32m14:58:51.293:dazbo-yt-demos - INF: Converting /content/dazbo-yt-demos/output/yt_dlp/alyona alyona & Jerry Heil - Teresa & Maria (LIVE) ｜ Ukraine 🇺🇦 ｜ Grand Final ｜ Eurovision 2024.mp3...\u001b[39m\n",
            "\u001b[34m14:59:10.977:dazbo-yt-demos - DBG: Chunk 0 extracted.\u001b[39m\n",
            "\u001b[33m14:59:24.425:dazbo-yt-demos - WRN: Chunk 1: Could not understand the audio. Maybe it was empty.\u001b[39m\n",
            "\u001b[33m14:59:33.466:dazbo-yt-demos - WRN: Chunk 2: Could not understand the audio. Maybe it was empty.\u001b[39m\n",
            "\u001b[33m14:59:36.385:dazbo-yt-demos - WRN: Chunk 3: Could not understand the audio. Maybe it was empty.\u001b[39m\n",
            "\u001b[32m14:59:36.387:dazbo-yt-demos - INF: Extract:\u001b[39m\n",
            "\u001b[32m14:59:36.388:dazbo-yt-demos - INF: 0: через джерело пропила собі шлях щоб щоб не було світла й плеча мені Money Money всі звивисті скелясті Але знай твоїй руці твоя власниця давай\u001b[39m\n"
          ]
        }
      ],
      "source": [
        "def transcribe_ua():\n",
        "    recogniser = sr.Recognizer()\n",
        "    for mp3_file in Path(output_locn).glob(f'alyona*.mp3'):\n",
        "        transcribe_audio_file(recogniser, mp3_file, language=\"uk-UA\")\n",
        "\n",
        "transcribe_ua()"
      ]
    },
    {
      "cell_type": "markdown",
      "metadata": {
        "id": "JiSahMRd9ja5"
      },
      "source": [
        "### Results\n",
        "\n",
        "Partial success.  But overall... Not great!"
      ]
    },
    {
      "cell_type": "markdown",
      "metadata": {
        "id": "BBy8lLZ89ja6"
      },
      "source": [
        "## Extract Existing Transcripts from Videos\n",
        "\n",
        "Now I'm going to use the [youtube-transcript-api](https://github.com/jdepoix/youtube-transcript-api) to extract existing transcripts from YouTube videos. Not only will it return the transcript, but it can also be used to translate those to translate those transcripts into other languages.  So now I can download my Ukrainian song, and see both the Ukrainian transcript and the English translation. This is pretty awesome!\n",
        "\n",
        "However, some videos do not contain transcripts."
      ]
    },
    {
      "cell_type": "code",
      "execution_count": 17,
      "metadata": {
        "id": "34I7CAGp9ja6",
        "outputId": "130e50ed-0390-4be8-dbf0-ee8a8980d768",
        "colab": {
          "base_uri": "https://localhost:8080/"
        }
      },
      "outputs": [
        {
          "output_type": "stream",
          "name": "stdout",
          "text": [
            "Collecting youtube_transcript_api\n",
            "  Downloading youtube_transcript_api-0.6.2-py3-none-any.whl.metadata (15 kB)\n",
            "Requirement already satisfied: requests in /usr/local/lib/python3.10/dist-packages (from youtube_transcript_api) (2.32.3)\n",
            "Requirement already satisfied: charset-normalizer<4,>=2 in /usr/local/lib/python3.10/dist-packages (from requests->youtube_transcript_api) (3.4.0)\n",
            "Requirement already satisfied: idna<4,>=2.5 in /usr/local/lib/python3.10/dist-packages (from requests->youtube_transcript_api) (3.10)\n",
            "Requirement already satisfied: urllib3<3,>=1.21.1 in /usr/local/lib/python3.10/dist-packages (from requests->youtube_transcript_api) (2.2.3)\n",
            "Requirement already satisfied: certifi>=2017.4.17 in /usr/local/lib/python3.10/dist-packages (from requests->youtube_transcript_api) (2024.8.30)\n",
            "Downloading youtube_transcript_api-0.6.2-py3-none-any.whl (24 kB)\n",
            "Installing collected packages: youtube_transcript_api\n",
            "Successfully installed youtube_transcript_api-0.6.2\n"
          ]
        }
      ],
      "source": [
        "%pip install --upgrade --no-cache-dir youtube_transcript_api"
      ]
    },
    {
      "cell_type": "code",
      "execution_count": 18,
      "metadata": {
        "id": "qAsZuXvM9ja7",
        "outputId": "8d8a480b-edbc-418a-c0e5-48ee7a965e55",
        "colab": {
          "base_uri": "https://localhost:8080/"
        }
      },
      "outputs": [
        {
          "output_type": "stream",
          "name": "stderr",
          "text": [
            "\u001b[32m14:59:39.649:dazbo-yt-demos - INF: Processing 'Sigrid - Burning Bridges'...\u001b[39m\n",
            "\u001b[31m14:59:40.393:dazbo-yt-demos - ERR: Unable to extract transcript for 'Sigrid - Burning Bridges'.\u001b[39m\n",
            "\u001b[34m14:59:40.395:dazbo-yt-demos - DBG: \n",
            "Could not retrieve a transcript for the video https://www.youtube.com/watch?v=udRAIF6MOm8! This is most likely caused by:\n",
            "\n",
            "Subtitles are disabled for this video\n",
            "\n",
            "If you are sure that the described cause is not responsible for this error and that a transcript should be retrievable, please create an issue at https://github.com/jdepoix/youtube-transcript-api/issues. Please add which version of youtube_transcript_api you are using and provide the information needed to replicate the error. Also make sure that there are no open issues which already describe your problem!\u001b[39m\n",
            "\u001b[32m14:59:40.471:dazbo-yt-demos - INF: Processing 'Wolfenstein: The New Order - I Believe - Melissa Hollick (Official Ending Song)'...\u001b[39m\n",
            "\u001b[32m14:59:41.018:dazbo-yt-demos - INF: video_id: CiTn4j7gVvY\u001b[39m\n",
            "\u001b[32m14:59:41.020:dazbo-yt-demos - INF: language: English (auto-generated)\u001b[39m\n",
            "\u001b[32m14:59:41.022:dazbo-yt-demos - INF: language_code: en\u001b[39m\n",
            "\u001b[32m14:59:41.024:dazbo-yt-demos - INF: is_generated: True\u001b[39m\n",
            "\u001b[32m14:59:41.026:dazbo-yt-demos - INF: is_translatable: True\u001b[39m\n",
            "\u001b[32m14:59:41.028:dazbo-yt-demos - INF: translation_languages: [{'language': 'Abkhazian', 'language_code': 'ab'}, {'language': 'Afar', 'language_code': 'aa'}, {'language': 'Afrikaans', 'language_code': 'af'}, {'language': 'Akan', 'language_code': 'ak'}, {'language': 'Albanian', 'language_code': 'sq'}, {'language': 'Amharic', 'language_code': 'am'}, {'language': 'Arabic', 'language_code': 'ar'}, {'language': 'Armenian', 'language_code': 'hy'}, {'language': 'Assamese', 'language_code': 'as'}, {'language': 'Aymara', 'language_code': 'ay'}, {'language': 'Azerbaijani', 'language_code': 'az'}, {'language': 'Bangla', 'language_code': 'bn'}, {'language': 'Bashkir', 'language_code': 'ba'}, {'language': 'Basque', 'language_code': 'eu'}, {'language': 'Belarusian', 'language_code': 'be'}, {'language': 'Bhojpuri', 'language_code': 'bho'}, {'language': 'Bosnian', 'language_code': 'bs'}, {'language': 'Breton', 'language_code': 'br'}, {'language': 'Bulgarian', 'language_code': 'bg'}, {'language': 'Burmese', 'language_code': 'my'}, {'language': 'Catalan', 'language_code': 'ca'}, {'language': 'Cebuano', 'language_code': 'ceb'}, {'language': 'Chinese (Simplified)', 'language_code': 'zh-Hans'}, {'language': 'Chinese (Traditional)', 'language_code': 'zh-Hant'}, {'language': 'Corsican', 'language_code': 'co'}, {'language': 'Croatian', 'language_code': 'hr'}, {'language': 'Czech', 'language_code': 'cs'}, {'language': 'Danish', 'language_code': 'da'}, {'language': 'Divehi', 'language_code': 'dv'}, {'language': 'Dutch', 'language_code': 'nl'}, {'language': 'Dzongkha', 'language_code': 'dz'}, {'language': 'English', 'language_code': 'en'}, {'language': 'Esperanto', 'language_code': 'eo'}, {'language': 'Estonian', 'language_code': 'et'}, {'language': 'Ewe', 'language_code': 'ee'}, {'language': 'Faroese', 'language_code': 'fo'}, {'language': 'Fijian', 'language_code': 'fj'}, {'language': 'Filipino', 'language_code': 'fil'}, {'language': 'Finnish', 'language_code': 'fi'}, {'language': 'French', 'language_code': 'fr'}, {'language': 'Ga', 'language_code': 'gaa'}, {'language': 'Galician', 'language_code': 'gl'}, {'language': 'Ganda', 'language_code': 'lg'}, {'language': 'Georgian', 'language_code': 'ka'}, {'language': 'German', 'language_code': 'de'}, {'language': 'Greek', 'language_code': 'el'}, {'language': 'Guarani', 'language_code': 'gn'}, {'language': 'Gujarati', 'language_code': 'gu'}, {'language': 'Haitian Creole', 'language_code': 'ht'}, {'language': 'Hausa', 'language_code': 'ha'}, {'language': 'Hawaiian', 'language_code': 'haw'}, {'language': 'Hebrew', 'language_code': 'iw'}, {'language': 'Hindi', 'language_code': 'hi'}, {'language': 'Hmong', 'language_code': 'hmn'}, {'language': 'Hungarian', 'language_code': 'hu'}, {'language': 'Icelandic', 'language_code': 'is'}, {'language': 'Igbo', 'language_code': 'ig'}, {'language': 'Indonesian', 'language_code': 'id'}, {'language': 'Irish', 'language_code': 'ga'}, {'language': 'Italian', 'language_code': 'it'}, {'language': 'Japanese', 'language_code': 'ja'}, {'language': 'Javanese', 'language_code': 'jv'}, {'language': 'Kalaallisut', 'language_code': 'kl'}, {'language': 'Kannada', 'language_code': 'kn'}, {'language': 'Kazakh', 'language_code': 'kk'}, {'language': 'Khasi', 'language_code': 'kha'}, {'language': 'Khmer', 'language_code': 'km'}, {'language': 'Kinyarwanda', 'language_code': 'rw'}, {'language': 'Korean', 'language_code': 'ko'}, {'language': 'Krio', 'language_code': 'kri'}, {'language': 'Kurdish', 'language_code': 'ku'}, {'language': 'Kyrgyz', 'language_code': 'ky'}, {'language': 'Lao', 'language_code': 'lo'}, {'language': 'Latin', 'language_code': 'la'}, {'language': 'Latvian', 'language_code': 'lv'}, {'language': 'Lingala', 'language_code': 'ln'}, {'language': 'Lithuanian', 'language_code': 'lt'}, {'language': 'Luo', 'language_code': 'luo'}, {'language': 'Luxembourgish', 'language_code': 'lb'}, {'language': 'Macedonian', 'language_code': 'mk'}, {'language': 'Malagasy', 'language_code': 'mg'}, {'language': 'Malay', 'language_code': 'ms'}, {'language': 'Malayalam', 'language_code': 'ml'}, {'language': 'Maltese', 'language_code': 'mt'}, {'language': 'Manx', 'language_code': 'gv'}, {'language': 'Māori', 'language_code': 'mi'}, {'language': 'Marathi', 'language_code': 'mr'}, {'language': 'Mongolian', 'language_code': 'mn'}, {'language': 'Morisyen', 'language_code': 'mfe'}, {'language': 'Nepali', 'language_code': 'ne'}, {'language': 'Newari', 'language_code': 'new'}, {'language': 'Northern Sotho', 'language_code': 'nso'}, {'language': 'Norwegian', 'language_code': 'no'}, {'language': 'Nyanja', 'language_code': 'ny'}, {'language': 'Occitan', 'language_code': 'oc'}, {'language': 'Odia', 'language_code': 'or'}, {'language': 'Oromo', 'language_code': 'om'}, {'language': 'Ossetic', 'language_code': 'os'}, {'language': 'Pampanga', 'language_code': 'pam'}, {'language': 'Pashto', 'language_code': 'ps'}, {'language': 'Persian', 'language_code': 'fa'}, {'language': 'Polish', 'language_code': 'pl'}, {'language': 'Portuguese', 'language_code': 'pt'}, {'language': 'Portuguese (Portugal)', 'language_code': 'pt-PT'}, {'language': 'Punjabi', 'language_code': 'pa'}, {'language': 'Quechua', 'language_code': 'qu'}, {'language': 'Romanian', 'language_code': 'ro'}, {'language': 'Rundi', 'language_code': 'rn'}, {'language': 'Russian', 'language_code': 'ru'}, {'language': 'Samoan', 'language_code': 'sm'}, {'language': 'Sango', 'language_code': 'sg'}, {'language': 'Sanskrit', 'language_code': 'sa'}, {'language': 'Scottish Gaelic', 'language_code': 'gd'}, {'language': 'Serbian', 'language_code': 'sr'}, {'language': 'Seselwa Creole French', 'language_code': 'crs'}, {'language': 'Shona', 'language_code': 'sn'}, {'language': 'Sindhi', 'language_code': 'sd'}, {'language': 'Sinhala', 'language_code': 'si'}, {'language': 'Slovak', 'language_code': 'sk'}, {'language': 'Slovenian', 'language_code': 'sl'}, {'language': 'Somali', 'language_code': 'so'}, {'language': 'Southern Sotho', 'language_code': 'st'}, {'language': 'Spanish', 'language_code': 'es'}, {'language': 'Sundanese', 'language_code': 'su'}, {'language': 'Swahili', 'language_code': 'sw'}, {'language': 'Swati', 'language_code': 'ss'}, {'language': 'Swedish', 'language_code': 'sv'}, {'language': 'Tajik', 'language_code': 'tg'}, {'language': 'Tamil', 'language_code': 'ta'}, {'language': 'Tatar', 'language_code': 'tt'}, {'language': 'Telugu', 'language_code': 'te'}, {'language': 'Thai', 'language_code': 'th'}, {'language': 'Tibetan', 'language_code': 'bo'}, {'language': 'Tigrinya', 'language_code': 'ti'}, {'language': 'Tongan', 'language_code': 'to'}, {'language': 'Tsonga', 'language_code': 'ts'}, {'language': 'Tswana', 'language_code': 'tn'}, {'language': 'Tumbuka', 'language_code': 'tum'}, {'language': 'Turkish', 'language_code': 'tr'}, {'language': 'Turkmen', 'language_code': 'tk'}, {'language': 'Ukrainian', 'language_code': 'uk'}, {'language': 'Urdu', 'language_code': 'ur'}, {'language': 'Uyghur', 'language_code': 'ug'}, {'language': 'Uzbek', 'language_code': 'uz'}, {'language': 'Venda', 'language_code': 've'}, {'language': 'Vietnamese', 'language_code': 'vi'}, {'language': 'Waray', 'language_code': 'war'}, {'language': 'Welsh', 'language_code': 'cy'}, {'language': 'Western Frisian', 'language_code': 'fy'}, {'language': 'Wolof', 'language_code': 'wo'}, {'language': 'Xhosa', 'language_code': 'xh'}, {'language': 'Yiddish', 'language_code': 'yi'}, {'language': 'Yoruba', 'language_code': 'yo'}, {'language': 'Zulu', 'language_code': 'zu'}]\u001b[39m\n",
            "\u001b[32m14:59:41.098:dazbo-yt-demos - INF: Raw transcript:\n",
            "[{'text': '[Music]', 'start': 5.03, 'duration': 6.13}, {'text': '[Music]', 'start': 19.52, 'duration': 5.109}, {'text': '[Laughter]', 'start': 24.76, 'duration': 3.17}, {'text': '[Music]', 'start': 28.19, 'duration': 33.4}, {'text': 'I believe that the Stars keep shining', 'start': 66.04, 'duration': 6.84}, {'text': 'all through the', 'start': 69.28, 'duration': 3.6}, {'text': 'night I believe if we just keep trying', 'start': 73.84, 'duration': 8.04}, {'text': \"it'll be all\", 'start': 78.28, 'duration': 3.6}, {'text': \"right I believe that someday we're going\", 'start': 82.68, 'duration': 8.759}, {'text': 'to find our way', 'start': 86.84, 'duration': 6.919}, {'text': 'I', 'start': 91.439, 'duration': 2.32}, {'text': 'believe in a beautiful', 'start': 93.799, 'duration': 4.721}, {'text': 'day I believe in lovers walk Inside by', 'start': 100.479, 'duration': 7.96}, {'text': 'side I believe that someday will be', 'start': 109.36, 'duration': 6.92}, {'text': 'satisfied happily', 'start': 118.2, 'duration': 6.24}, {'text': 'the Angels listen God hears us', 'start': 120.68, 'duration': 5.079}, {'text': '[Music]', 'start': 124.44, 'duration': 4.879}, {'text': 'pray and I', 'start': 125.759, 'duration': 5.721}, {'text': 'believe in a', 'start': 129.319, 'duration': 5.161}, {'text': 'beautiful', 'start': 131.48, 'duration': 3.0}, {'text': 'day here I', 'start': 134.519, 'duration': 8.36}, {'text': \"believe it's going to work out\", 'start': 138.08, 'duration': 4.799}, {'text': 'okay but not for', 'start': 143.44, 'duration': 4.079}, {'text': 'me not for you', 'start': 147.959, 'duration': 3.881}, {'text': 'you I believe I believe I believe I', 'start': 153.8, 'duration': 6.719}, {'text': 'believe I believe I believe I believe I', 'start': 162.76, 'duration': 7.52}, {'text': 'believe', 'start': 167.48, 'duration': 6.089}, {'text': '[Music]', 'start': 170.28, 'duration': 3.289}, {'text': '[Music]', 'start': 175.67, 'duration': 8.319}, {'text': \"oh I believe there's an answer waiting\", 'start': 189.4, 'duration': 7.43}, {'text': 'when the day is', 'start': 193.76, 'duration': 4.64}, {'text': '[Music]', 'start': 196.83, 'duration': 5.049}, {'text': 'done I believe if you just keep', 'start': 198.4, 'duration': 7.399}, {'text': \"searching you'll find\", 'start': 201.879, 'duration': 3.92}, {'text': 'someone I believe that you and I just', 'start': 207.2, 'duration': 7.399}, {'text': 'lost our', 'start': 211.799, 'duration': 6.401}, {'text': 'way and I', 'start': 214.599, 'duration': 8.56}, {'text': 'believe in a beautiful', 'start': 218.2, 'duration': 4.959}, {'text': 'day I still', 'start': 223.439, 'duration': 3.641}, {'text': 'believe in a beautiful', 'start': 227.159, 'duration': 4.72}, {'text': 'day but not for', 'start': 232.36, 'duration': 7.34}, {'text': 'me and not for you', 'start': 236.36, 'duration': 5.92}, {'text': '[Music]', 'start': 239.7, 'duration': 5.7}, {'text': 'I know you', 'start': 242.28, 'duration': 3.12}, {'text': 'tried I tried', 'start': 245.48, 'duration': 4.039}, {'text': \"to sometimes all our dreams just don't\", 'start': 250.879, 'duration': 6.621}, {'text': 'come', 'start': 255.76, 'duration': 4.599}, {'text': '[Music]', 'start': 257.5, 'duration': 7.699}, {'text': 'true I believe I believe I believe I', 'start': 260.359, 'duration': 6.911}, {'text': 'believe', 'start': 265.199, 'duration': 5.081}, {'text': '[Music]', 'start': 267.27, 'duration': 8.1}, {'text': 'I believe I believe I believe I', 'start': 270.28, 'duration': 8.76}, {'text': '[Music]', 'start': 275.37, 'duration': 3.67}, {'text': '[Music]', 'start': 281.87, 'duration': 3.159}, {'text': 'believe', 'start': 286.52, 'duration': 3.0}, {'text': 'oh beautiful day', 'start': 289.68, 'duration': 8.709}, {'text': '[Music]', 'start': 294.61, 'duration': 3.779}, {'text': 'oh', 'start': 299.84, 'duration': 3.0}, {'text': '[Music]', 'start': 304.19, 'duration': 10.0}, {'text': '[Laughter]', 'start': 311.88, 'duration': 6.84}, {'text': '[Music]', 'start': 314.19, 'duration': 4.53}, {'text': '[Music]', 'start': 321.97, 'duration': 14.46}, {'text': '[Laughter]', 'start': 331.8, 'duration': 4.63}, {'text': '[Music]', 'start': 348.31, 'duration': 12.35}]\u001b[39m\n",
            "\u001b[32m14:59:41.100:dazbo-yt-demos - INF: Processed transcript:\n",
            "I believe that the Stars keep shining\n",
            "all through the\n",
            "night I believe if we just keep trying\n",
            "it'll be all\n",
            "right I believe that someday we're going\n",
            "to find our way\n",
            "I\n",
            "believe in a beautiful\n",
            "day I believe in lovers walk Inside by\n",
            "side I believe that someday will be\n",
            "satisfied happily\n",
            "the Angels listen God hears us\n",
            "pray and I\n",
            "believe in a\n",
            "beautiful\n",
            "day here I\n",
            "believe it's going to work out\n",
            "okay but not for\n",
            "me not for you\n",
            "you I believe I believe I believe I\n",
            "believe I believe I believe I believe I\n",
            "believe\n",
            "oh I believe there's an answer waiting\n",
            "when the day is\n",
            "done I believe if you just keep\n",
            "searching you'll find\n",
            "someone I believe that you and I just\n",
            "lost our\n",
            "way and I\n",
            "believe in a beautiful\n",
            "day I still\n",
            "believe in a beautiful\n",
            "day but not for\n",
            "me and not for you\n",
            "I know you\n",
            "tried I tried\n",
            "to sometimes all our dreams just don't\n",
            "come\n",
            "true I believe I believe I believe I\n",
            "believe\n",
            "I believe I believe I believe I\n",
            "believe\n",
            "oh beautiful day\n",
            "oh\u001b[39m\n",
            "\u001b[32m14:59:41.170:dazbo-yt-demos - INF: Processing 'Jim Carrey Commencement Speech His Father's Inspiration'...\u001b[39m\n",
            "\u001b[32m14:59:41.668:dazbo-yt-demos - INF: video_id: nLgHNu2N3JU\u001b[39m\n",
            "\u001b[32m14:59:41.672:dazbo-yt-demos - INF: language: English (auto-generated)\u001b[39m\n",
            "\u001b[32m14:59:41.674:dazbo-yt-demos - INF: language_code: en\u001b[39m\n",
            "\u001b[32m14:59:41.676:dazbo-yt-demos - INF: is_generated: True\u001b[39m\n",
            "\u001b[32m14:59:41.677:dazbo-yt-demos - INF: is_translatable: True\u001b[39m\n",
            "\u001b[32m14:59:41.679:dazbo-yt-demos - INF: translation_languages: [{'language': 'Abkhazian', 'language_code': 'ab'}, {'language': 'Afar', 'language_code': 'aa'}, {'language': 'Afrikaans', 'language_code': 'af'}, {'language': 'Akan', 'language_code': 'ak'}, {'language': 'Albanian', 'language_code': 'sq'}, {'language': 'Amharic', 'language_code': 'am'}, {'language': 'Arabic', 'language_code': 'ar'}, {'language': 'Armenian', 'language_code': 'hy'}, {'language': 'Assamese', 'language_code': 'as'}, {'language': 'Aymara', 'language_code': 'ay'}, {'language': 'Azerbaijani', 'language_code': 'az'}, {'language': 'Bangla', 'language_code': 'bn'}, {'language': 'Bashkir', 'language_code': 'ba'}, {'language': 'Basque', 'language_code': 'eu'}, {'language': 'Belarusian', 'language_code': 'be'}, {'language': 'Bhojpuri', 'language_code': 'bho'}, {'language': 'Bosnian', 'language_code': 'bs'}, {'language': 'Breton', 'language_code': 'br'}, {'language': 'Bulgarian', 'language_code': 'bg'}, {'language': 'Burmese', 'language_code': 'my'}, {'language': 'Catalan', 'language_code': 'ca'}, {'language': 'Cebuano', 'language_code': 'ceb'}, {'language': 'Chinese (Simplified)', 'language_code': 'zh-Hans'}, {'language': 'Chinese (Traditional)', 'language_code': 'zh-Hant'}, {'language': 'Corsican', 'language_code': 'co'}, {'language': 'Croatian', 'language_code': 'hr'}, {'language': 'Czech', 'language_code': 'cs'}, {'language': 'Danish', 'language_code': 'da'}, {'language': 'Divehi', 'language_code': 'dv'}, {'language': 'Dutch', 'language_code': 'nl'}, {'language': 'Dzongkha', 'language_code': 'dz'}, {'language': 'English', 'language_code': 'en'}, {'language': 'Esperanto', 'language_code': 'eo'}, {'language': 'Estonian', 'language_code': 'et'}, {'language': 'Ewe', 'language_code': 'ee'}, {'language': 'Faroese', 'language_code': 'fo'}, {'language': 'Fijian', 'language_code': 'fj'}, {'language': 'Filipino', 'language_code': 'fil'}, {'language': 'Finnish', 'language_code': 'fi'}, {'language': 'French', 'language_code': 'fr'}, {'language': 'Ga', 'language_code': 'gaa'}, {'language': 'Galician', 'language_code': 'gl'}, {'language': 'Ganda', 'language_code': 'lg'}, {'language': 'Georgian', 'language_code': 'ka'}, {'language': 'German', 'language_code': 'de'}, {'language': 'Greek', 'language_code': 'el'}, {'language': 'Guarani', 'language_code': 'gn'}, {'language': 'Gujarati', 'language_code': 'gu'}, {'language': 'Haitian Creole', 'language_code': 'ht'}, {'language': 'Hausa', 'language_code': 'ha'}, {'language': 'Hawaiian', 'language_code': 'haw'}, {'language': 'Hebrew', 'language_code': 'iw'}, {'language': 'Hindi', 'language_code': 'hi'}, {'language': 'Hmong', 'language_code': 'hmn'}, {'language': 'Hungarian', 'language_code': 'hu'}, {'language': 'Icelandic', 'language_code': 'is'}, {'language': 'Igbo', 'language_code': 'ig'}, {'language': 'Indonesian', 'language_code': 'id'}, {'language': 'Irish', 'language_code': 'ga'}, {'language': 'Italian', 'language_code': 'it'}, {'language': 'Japanese', 'language_code': 'ja'}, {'language': 'Javanese', 'language_code': 'jv'}, {'language': 'Kalaallisut', 'language_code': 'kl'}, {'language': 'Kannada', 'language_code': 'kn'}, {'language': 'Kazakh', 'language_code': 'kk'}, {'language': 'Khasi', 'language_code': 'kha'}, {'language': 'Khmer', 'language_code': 'km'}, {'language': 'Kinyarwanda', 'language_code': 'rw'}, {'language': 'Korean', 'language_code': 'ko'}, {'language': 'Krio', 'language_code': 'kri'}, {'language': 'Kurdish', 'language_code': 'ku'}, {'language': 'Kyrgyz', 'language_code': 'ky'}, {'language': 'Lao', 'language_code': 'lo'}, {'language': 'Latin', 'language_code': 'la'}, {'language': 'Latvian', 'language_code': 'lv'}, {'language': 'Lingala', 'language_code': 'ln'}, {'language': 'Lithuanian', 'language_code': 'lt'}, {'language': 'Luo', 'language_code': 'luo'}, {'language': 'Luxembourgish', 'language_code': 'lb'}, {'language': 'Macedonian', 'language_code': 'mk'}, {'language': 'Malagasy', 'language_code': 'mg'}, {'language': 'Malay', 'language_code': 'ms'}, {'language': 'Malayalam', 'language_code': 'ml'}, {'language': 'Maltese', 'language_code': 'mt'}, {'language': 'Manx', 'language_code': 'gv'}, {'language': 'Māori', 'language_code': 'mi'}, {'language': 'Marathi', 'language_code': 'mr'}, {'language': 'Mongolian', 'language_code': 'mn'}, {'language': 'Morisyen', 'language_code': 'mfe'}, {'language': 'Nepali', 'language_code': 'ne'}, {'language': 'Newari', 'language_code': 'new'}, {'language': 'Northern Sotho', 'language_code': 'nso'}, {'language': 'Norwegian', 'language_code': 'no'}, {'language': 'Nyanja', 'language_code': 'ny'}, {'language': 'Occitan', 'language_code': 'oc'}, {'language': 'Odia', 'language_code': 'or'}, {'language': 'Oromo', 'language_code': 'om'}, {'language': 'Ossetic', 'language_code': 'os'}, {'language': 'Pampanga', 'language_code': 'pam'}, {'language': 'Pashto', 'language_code': 'ps'}, {'language': 'Persian', 'language_code': 'fa'}, {'language': 'Polish', 'language_code': 'pl'}, {'language': 'Portuguese', 'language_code': 'pt'}, {'language': 'Portuguese (Portugal)', 'language_code': 'pt-PT'}, {'language': 'Punjabi', 'language_code': 'pa'}, {'language': 'Quechua', 'language_code': 'qu'}, {'language': 'Romanian', 'language_code': 'ro'}, {'language': 'Rundi', 'language_code': 'rn'}, {'language': 'Russian', 'language_code': 'ru'}, {'language': 'Samoan', 'language_code': 'sm'}, {'language': 'Sango', 'language_code': 'sg'}, {'language': 'Sanskrit', 'language_code': 'sa'}, {'language': 'Scottish Gaelic', 'language_code': 'gd'}, {'language': 'Serbian', 'language_code': 'sr'}, {'language': 'Seselwa Creole French', 'language_code': 'crs'}, {'language': 'Shona', 'language_code': 'sn'}, {'language': 'Sindhi', 'language_code': 'sd'}, {'language': 'Sinhala', 'language_code': 'si'}, {'language': 'Slovak', 'language_code': 'sk'}, {'language': 'Slovenian', 'language_code': 'sl'}, {'language': 'Somali', 'language_code': 'so'}, {'language': 'Southern Sotho', 'language_code': 'st'}, {'language': 'Spanish', 'language_code': 'es'}, {'language': 'Sundanese', 'language_code': 'su'}, {'language': 'Swahili', 'language_code': 'sw'}, {'language': 'Swati', 'language_code': 'ss'}, {'language': 'Swedish', 'language_code': 'sv'}, {'language': 'Tajik', 'language_code': 'tg'}, {'language': 'Tamil', 'language_code': 'ta'}, {'language': 'Tatar', 'language_code': 'tt'}, {'language': 'Telugu', 'language_code': 'te'}, {'language': 'Thai', 'language_code': 'th'}, {'language': 'Tibetan', 'language_code': 'bo'}, {'language': 'Tigrinya', 'language_code': 'ti'}, {'language': 'Tongan', 'language_code': 'to'}, {'language': 'Tsonga', 'language_code': 'ts'}, {'language': 'Tswana', 'language_code': 'tn'}, {'language': 'Tumbuka', 'language_code': 'tum'}, {'language': 'Turkish', 'language_code': 'tr'}, {'language': 'Turkmen', 'language_code': 'tk'}, {'language': 'Ukrainian', 'language_code': 'uk'}, {'language': 'Urdu', 'language_code': 'ur'}, {'language': 'Uyghur', 'language_code': 'ug'}, {'language': 'Uzbek', 'language_code': 'uz'}, {'language': 'Venda', 'language_code': 've'}, {'language': 'Vietnamese', 'language_code': 'vi'}, {'language': 'Waray', 'language_code': 'war'}, {'language': 'Welsh', 'language_code': 'cy'}, {'language': 'Western Frisian', 'language_code': 'fy'}, {'language': 'Wolof', 'language_code': 'wo'}, {'language': 'Xhosa', 'language_code': 'xh'}, {'language': 'Yiddish', 'language_code': 'yi'}, {'language': 'Yoruba', 'language_code': 'yo'}, {'language': 'Zulu', 'language_code': 'zu'}]\u001b[39m\n",
            "\u001b[32m14:59:41.749:dazbo-yt-demos - INF: Raw transcript:\n",
            "[{'text': 'you can spend your whole life imagining', 'start': 0.12, 'duration': 3.96}, {'text': 'ghosts worrying about the pathway to the', 'start': 1.979, 'duration': 4.951}, {'text': 'future but all there will ever be is', 'start': 4.08, 'duration': 4.109}, {'text': \"what's happening here\", 'start': 6.93, 'duration': 3.57}, {'text': 'and the decisions we make in this moment', 'start': 8.189, 'duration': 5.57}, {'text': 'which are based in either love or fear', 'start': 10.5, 'duration': 5.789}, {'text': 'so many of us choose our path out of', 'start': 13.759, 'duration': 7.27}, {'text': 'fear disguised as practicality what we', 'start': 16.289, 'duration': 6.48}, {'text': 'really want seems impossibly out of', 'start': 21.029, 'duration': 3.571}, {'text': 'reach and ridiculous to expect so we', 'start': 22.769, 'duration': 3.661}, {'text': 'never dare to ask the universe for it', 'start': 24.6, 'duration': 5.4}, {'text': \"I'm saying I'm the proof that you can\", 'start': 26.43, 'duration': 5.49}, {'text': 'ask the universe for it', 'start': 30.0, 'duration': 3.719}, {'text': \"my father could've been a great comedian\", 'start': 31.92, 'duration': 3.299}, {'text': \"but he didn't believe that that was\", 'start': 33.719, 'duration': 3.481}, {'text': 'possible for him and so he made a', 'start': 35.219, 'duration': 4.5}, {'text': 'conservative choice instead he got a', 'start': 37.2, 'duration': 4.65}, {'text': 'safe job as an accountant and when I was', 'start': 39.719, 'duration': 4.801}, {'text': '12 years old he was let go from that', 'start': 41.85, 'duration': 4.95}, {'text': 'safe job and our family had to do', 'start': 44.52, 'duration': 4.44}, {'text': 'whatever we could to survive I learned', 'start': 46.8, 'duration': 4.56}, {'text': 'many great lessons from my father not', 'start': 48.96, 'duration': 4.259}, {'text': 'the least of which was that you can fail', 'start': 51.36, 'duration': 4.469}, {'text': \"at what you don't want so you might as\", 'start': 53.219, 'duration': 4.531}, {'text': 'well take a chance on doing what you', 'start': 55.829, 'duration': 2.711}, {'text': 'love', 'start': 57.75, 'duration': 5.75}, {'text': '[Applause]', 'start': 58.54, 'duration': 4.96}]\u001b[39m\n",
            "\u001b[32m14:59:41.750:dazbo-yt-demos - INF: Processed transcript:\n",
            "you can spend your whole life imagining\n",
            "ghosts worrying about the pathway to the\n",
            "future but all there will ever be is\n",
            "what's happening here\n",
            "and the decisions we make in this moment\n",
            "which are based in either love or fear\n",
            "so many of us choose our path out of\n",
            "fear disguised as practicality what we\n",
            "really want seems impossibly out of\n",
            "reach and ridiculous to expect so we\n",
            "never dare to ask the universe for it\n",
            "I'm saying I'm the proof that you can\n",
            "ask the universe for it\n",
            "my father could've been a great comedian\n",
            "but he didn't believe that that was\n",
            "possible for him and so he made a\n",
            "conservative choice instead he got a\n",
            "safe job as an accountant and when I was\n",
            "12 years old he was let go from that\n",
            "safe job and our family had to do\n",
            "whatever we could to survive I learned\n",
            "many great lessons from my father not\n",
            "the least of which was that you can fail\n",
            "at what you don't want so you might as\n",
            "well take a chance on doing what you\n",
            "love\u001b[39m\n",
            "\u001b[32m14:59:41.843:dazbo-yt-demos - INF: Processing 'alyona alyona & Jerry Heil - Teresa & Maria (LIVE) | Ukraine 🇺🇦 | Grand Final | Eurovision 2024'...\u001b[39m\n",
            "\u001b[32m14:59:42.595:dazbo-yt-demos - INF: video_id: d4N82wPpdg8\u001b[39m\n",
            "\u001b[32m14:59:42.602:dazbo-yt-demos - INF: language: Ukrainian (auto-generated)\u001b[39m\n",
            "\u001b[32m14:59:42.605:dazbo-yt-demos - INF: language_code: uk\u001b[39m\n",
            "\u001b[32m14:59:42.607:dazbo-yt-demos - INF: is_generated: True\u001b[39m\n",
            "\u001b[32m14:59:42.613:dazbo-yt-demos - INF: is_translatable: True\u001b[39m\n",
            "\u001b[32m14:59:42.615:dazbo-yt-demos - INF: translation_languages: [{'language': 'Abkhazian', 'language_code': 'ab'}, {'language': 'Afar', 'language_code': 'aa'}, {'language': 'Afrikaans', 'language_code': 'af'}, {'language': 'Akan', 'language_code': 'ak'}, {'language': 'Albanian', 'language_code': 'sq'}, {'language': 'Amharic', 'language_code': 'am'}, {'language': 'Arabic', 'language_code': 'ar'}, {'language': 'Armenian', 'language_code': 'hy'}, {'language': 'Assamese', 'language_code': 'as'}, {'language': 'Aymara', 'language_code': 'ay'}, {'language': 'Azerbaijani', 'language_code': 'az'}, {'language': 'Bangla', 'language_code': 'bn'}, {'language': 'Bashkir', 'language_code': 'ba'}, {'language': 'Basque', 'language_code': 'eu'}, {'language': 'Belarusian', 'language_code': 'be'}, {'language': 'Bhojpuri', 'language_code': 'bho'}, {'language': 'Bosnian', 'language_code': 'bs'}, {'language': 'Breton', 'language_code': 'br'}, {'language': 'Bulgarian', 'language_code': 'bg'}, {'language': 'Burmese', 'language_code': 'my'}, {'language': 'Catalan', 'language_code': 'ca'}, {'language': 'Cebuano', 'language_code': 'ceb'}, {'language': 'Chinese (Simplified)', 'language_code': 'zh-Hans'}, {'language': 'Chinese (Traditional)', 'language_code': 'zh-Hant'}, {'language': 'Corsican', 'language_code': 'co'}, {'language': 'Croatian', 'language_code': 'hr'}, {'language': 'Czech', 'language_code': 'cs'}, {'language': 'Danish', 'language_code': 'da'}, {'language': 'Divehi', 'language_code': 'dv'}, {'language': 'Dutch', 'language_code': 'nl'}, {'language': 'Dzongkha', 'language_code': 'dz'}, {'language': 'English', 'language_code': 'en'}, {'language': 'Esperanto', 'language_code': 'eo'}, {'language': 'Estonian', 'language_code': 'et'}, {'language': 'Ewe', 'language_code': 'ee'}, {'language': 'Faroese', 'language_code': 'fo'}, {'language': 'Fijian', 'language_code': 'fj'}, {'language': 'Filipino', 'language_code': 'fil'}, {'language': 'Finnish', 'language_code': 'fi'}, {'language': 'French', 'language_code': 'fr'}, {'language': 'Ga', 'language_code': 'gaa'}, {'language': 'Galician', 'language_code': 'gl'}, {'language': 'Ganda', 'language_code': 'lg'}, {'language': 'Georgian', 'language_code': 'ka'}, {'language': 'German', 'language_code': 'de'}, {'language': 'Greek', 'language_code': 'el'}, {'language': 'Guarani', 'language_code': 'gn'}, {'language': 'Gujarati', 'language_code': 'gu'}, {'language': 'Haitian Creole', 'language_code': 'ht'}, {'language': 'Hausa', 'language_code': 'ha'}, {'language': 'Hawaiian', 'language_code': 'haw'}, {'language': 'Hebrew', 'language_code': 'iw'}, {'language': 'Hindi', 'language_code': 'hi'}, {'language': 'Hmong', 'language_code': 'hmn'}, {'language': 'Hungarian', 'language_code': 'hu'}, {'language': 'Icelandic', 'language_code': 'is'}, {'language': 'Igbo', 'language_code': 'ig'}, {'language': 'Indonesian', 'language_code': 'id'}, {'language': 'Irish', 'language_code': 'ga'}, {'language': 'Italian', 'language_code': 'it'}, {'language': 'Japanese', 'language_code': 'ja'}, {'language': 'Javanese', 'language_code': 'jv'}, {'language': 'Kalaallisut', 'language_code': 'kl'}, {'language': 'Kannada', 'language_code': 'kn'}, {'language': 'Kazakh', 'language_code': 'kk'}, {'language': 'Khasi', 'language_code': 'kha'}, {'language': 'Khmer', 'language_code': 'km'}, {'language': 'Kinyarwanda', 'language_code': 'rw'}, {'language': 'Korean', 'language_code': 'ko'}, {'language': 'Krio', 'language_code': 'kri'}, {'language': 'Kurdish', 'language_code': 'ku'}, {'language': 'Kyrgyz', 'language_code': 'ky'}, {'language': 'Lao', 'language_code': 'lo'}, {'language': 'Latin', 'language_code': 'la'}, {'language': 'Latvian', 'language_code': 'lv'}, {'language': 'Lingala', 'language_code': 'ln'}, {'language': 'Lithuanian', 'language_code': 'lt'}, {'language': 'Luo', 'language_code': 'luo'}, {'language': 'Luxembourgish', 'language_code': 'lb'}, {'language': 'Macedonian', 'language_code': 'mk'}, {'language': 'Malagasy', 'language_code': 'mg'}, {'language': 'Malay', 'language_code': 'ms'}, {'language': 'Malayalam', 'language_code': 'ml'}, {'language': 'Maltese', 'language_code': 'mt'}, {'language': 'Manx', 'language_code': 'gv'}, {'language': 'Māori', 'language_code': 'mi'}, {'language': 'Marathi', 'language_code': 'mr'}, {'language': 'Mongolian', 'language_code': 'mn'}, {'language': 'Morisyen', 'language_code': 'mfe'}, {'language': 'Nepali', 'language_code': 'ne'}, {'language': 'Newari', 'language_code': 'new'}, {'language': 'Northern Sotho', 'language_code': 'nso'}, {'language': 'Norwegian', 'language_code': 'no'}, {'language': 'Nyanja', 'language_code': 'ny'}, {'language': 'Occitan', 'language_code': 'oc'}, {'language': 'Odia', 'language_code': 'or'}, {'language': 'Oromo', 'language_code': 'om'}, {'language': 'Ossetic', 'language_code': 'os'}, {'language': 'Pampanga', 'language_code': 'pam'}, {'language': 'Pashto', 'language_code': 'ps'}, {'language': 'Persian', 'language_code': 'fa'}, {'language': 'Polish', 'language_code': 'pl'}, {'language': 'Portuguese', 'language_code': 'pt'}, {'language': 'Portuguese (Portugal)', 'language_code': 'pt-PT'}, {'language': 'Punjabi', 'language_code': 'pa'}, {'language': 'Quechua', 'language_code': 'qu'}, {'language': 'Romanian', 'language_code': 'ro'}, {'language': 'Rundi', 'language_code': 'rn'}, {'language': 'Russian', 'language_code': 'ru'}, {'language': 'Samoan', 'language_code': 'sm'}, {'language': 'Sango', 'language_code': 'sg'}, {'language': 'Sanskrit', 'language_code': 'sa'}, {'language': 'Scottish Gaelic', 'language_code': 'gd'}, {'language': 'Serbian', 'language_code': 'sr'}, {'language': 'Seselwa Creole French', 'language_code': 'crs'}, {'language': 'Shona', 'language_code': 'sn'}, {'language': 'Sindhi', 'language_code': 'sd'}, {'language': 'Sinhala', 'language_code': 'si'}, {'language': 'Slovak', 'language_code': 'sk'}, {'language': 'Slovenian', 'language_code': 'sl'}, {'language': 'Somali', 'language_code': 'so'}, {'language': 'Southern Sotho', 'language_code': 'st'}, {'language': 'Spanish', 'language_code': 'es'}, {'language': 'Sundanese', 'language_code': 'su'}, {'language': 'Swahili', 'language_code': 'sw'}, {'language': 'Swati', 'language_code': 'ss'}, {'language': 'Swedish', 'language_code': 'sv'}, {'language': 'Tajik', 'language_code': 'tg'}, {'language': 'Tamil', 'language_code': 'ta'}, {'language': 'Tatar', 'language_code': 'tt'}, {'language': 'Telugu', 'language_code': 'te'}, {'language': 'Thai', 'language_code': 'th'}, {'language': 'Tibetan', 'language_code': 'bo'}, {'language': 'Tigrinya', 'language_code': 'ti'}, {'language': 'Tongan', 'language_code': 'to'}, {'language': 'Tsonga', 'language_code': 'ts'}, {'language': 'Tswana', 'language_code': 'tn'}, {'language': 'Tumbuka', 'language_code': 'tum'}, {'language': 'Turkish', 'language_code': 'tr'}, {'language': 'Turkmen', 'language_code': 'tk'}, {'language': 'Ukrainian', 'language_code': 'uk'}, {'language': 'Urdu', 'language_code': 'ur'}, {'language': 'Uyghur', 'language_code': 'ug'}, {'language': 'Uzbek', 'language_code': 'uz'}, {'language': 'Venda', 'language_code': 've'}, {'language': 'Vietnamese', 'language_code': 'vi'}, {'language': 'Waray', 'language_code': 'war'}, {'language': 'Welsh', 'language_code': 'cy'}, {'language': 'Western Frisian', 'language_code': 'fy'}, {'language': 'Wolof', 'language_code': 'wo'}, {'language': 'Xhosa', 'language_code': 'xh'}, {'language': 'Yiddish', 'language_code': 'yi'}, {'language': 'Yoruba', 'language_code': 'yo'}, {'language': 'Zulu', 'language_code': 'zu'}]\u001b[39m\n",
            "\u001b[32m14:59:42.702:dazbo-yt-demos - INF: Raw transcript:\n",
            "[{'text': '[оплески]', 'start': 4.04, 'duration': 23.239}, {'text': '[музика]', 'start': 16.98, 'duration': 13.219}, {'text': 'cere cere cere', 'start': 27.279, 'duration': 7.361}, {'text': 'собі шляв щоби щоби не було світної', 'start': 30.199, 'duration': 9.481}, {'text': 'блечав мані мані Манівці звивесті', 'start': 34.64, 'duration': 8.38}, {'text': 'слястілез твоїй руці твоє', 'start': 39.68, 'duration': 3.77}, {'text': '[оплески]', 'start': 43.02, 'duration': 3.479}, {'text': '[музика]', 'start': 43.45, 'duration': 3.049}, {'text': 'власна давайвалалайле', 'start': 46.76, 'duration': 4.0}, {'text': '[музика]', 'start': 59.17, 'duration': 8.19}, {'text': 'з нами мама тереса Діва Марія босі ніби', 'start': 60.879, 'duration': 8.681}, {'text': 'полесуйшли по', 'start': 67.36, 'duration': 9.48}, {'text': 'земліта мама тереса Діва Марія олда діва', 'start': 69.56, 'duration': 11.879}, {'text': 'свобона з нами мама', 'start': 76.84, 'duration': 4.599}, {'text': 'тересаія', 'start': 84.479, 'duration': 4.441}, {'text': 'земліва', 'start': 86.84, 'duration': 5.08}, {'text': 'тереса', 'start': 88.92, 'duration': 3.0}, {'text': 'гегегегегейгегеге наві че з маля Ми', 'start': 102.399, 'duration': 4.281}, {'text': 'шукали шлях на життя петля ніби для тих', 'start': 104.56, 'duration': 4.839}, {'text': 'хто падає на своїх пличах ще мала дівча', 'start': 106.68, 'duration': 5.759}, {'text': 'нес з болюча нібача ще то падає знову не', 'start': 109.399, 'duration': 5.0}, {'text': \"така тона том'яка одяг на кістках\", 'start': 112.439, 'duration': 4.761}, {'text': 'олякачи до під вінець Де твоє диття що', 'start': 114.399, 'duration': 4.72}, {'text': 'твоє життя та роки жлиття ті заття', 'start': 117.2, 'duration': 4.16}, {'text': 'срокіне і хай хтось хоче аби ми', 'start': 119.119, 'duration': 3.881}, {'text': 'зламались Хай бував тобі заряду не', 'start': 121.36, 'duration': 3.359}, {'text': 'полікуться по палиці хай хтось хова за', 'start': 123.0, 'duration': 3.439}, {'text': 'посмішкою ненависті задрість Коли ти', 'start': 124.719, 'duration': 3.481}, {'text': 'пускаєш в серце Гнів добра любові заві', 'start': 126.439, 'duration': 4.281}, {'text': 'але в небі святі пачили цю землю знаєшти', 'start': 128.2, 'duration': 4.44}, {'text': 'нес шлях сами тому і не даремно і хай', 'start': 130.72, 'duration': 3.92}, {'text': 'буде дуже се темно і Часом не легко та з', 'start': 132.64, 'duration': 4.28}, {'text': 'тобою завжди буде з на слівати', 'start': 134.64, 'duration': 4.64}, {'text': 'пранки ма', 'start': 136.92, 'duration': 4.72}, {'text': 'ресаіва', 'start': 139.28, 'duration': 6.039}, {'text': 'маіяі полеу шли по', 'start': 141.64, 'duration': 11.319}, {'text': 'землі мама тереса Діва Марія і', 'start': 145.319, 'duration': 7.64}, {'text': 'сне мама', 'start': 153.72, 'duration': 4.2}, {'text': 'тереса', 'start': 156.16, 'duration': 4.159}, {'text': 'Маі ніби', 'start': 157.92, 'duration': 4.28}, {'text': 'полесуйшли', 'start': 160.319, 'duration': 7.801}, {'text': 'землітеж Мама тереса Діва Марі', 'start': 162.2, 'duration': 8.39}, {'text': 'зрне за', 'start': 168.12, 'duration': 5.06}, {'text': '[музика]', 'start': 170.59, 'duration': 8.889}, {'text': '[оплески]', 'start': 173.18, 'duration': 6.299}, {'text': '[музика]', 'start': 182.34, 'duration': 5.789}, {'text': 'you the world peace for ine', 'start': 189.959, 'duration': 6.241}]\u001b[39m\n",
            "\u001b[32m14:59:42.704:dazbo-yt-demos - INF: Processed transcript:\n",
            "cere cere cere\n",
            "собі шляв щоби щоби не було світної\n",
            "блечав мані мані Манівці звивесті\n",
            "слястілез твоїй руці твоє\n",
            "власна давайвалалайле\n",
            "з нами мама тереса Діва Марія босі ніби\n",
            "полесуйшли по\n",
            "земліта мама тереса Діва Марія олда діва\n",
            "свобона з нами мама\n",
            "тересаія\n",
            "земліва\n",
            "тереса\n",
            "гегегегегейгегеге наві че з маля Ми\n",
            "шукали шлях на життя петля ніби для тих\n",
            "хто падає на своїх пличах ще мала дівча\n",
            "нес з болюча нібача ще то падає знову не\n",
            "така тона том'яка одяг на кістках\n",
            "олякачи до під вінець Де твоє диття що\n",
            "твоє життя та роки жлиття ті заття\n",
            "срокіне і хай хтось хоче аби ми\n",
            "зламались Хай бував тобі заряду не\n",
            "полікуться по палиці хай хтось хова за\n",
            "посмішкою ненависті задрість Коли ти\n",
            "пускаєш в серце Гнів добра любові заві\n",
            "але в небі святі пачили цю землю знаєшти\n",
            "нес шлях сами тому і не даремно і хай\n",
            "буде дуже се темно і Часом не легко та з\n",
            "тобою завжди буде з на слівати\n",
            "пранки ма\n",
            "ресаіва\n",
            "маіяі полеу шли по\n",
            "землі мама тереса Діва Марія і\n",
            "сне мама\n",
            "тереса\n",
            "Маі ніби\n",
            "полесуйшли\n",
            "землітеж Мама тереса Діва Марі\n",
            "зрне за\n",
            "you the world peace for ine\u001b[39m\n",
            "\u001b[32m14:59:42.778:dazbo-yt-demos - INF: Processed translated transcript:\n",
            "cere cere cere I\n",
            "sent to myself so that there would be no light, I\n",
            "bleated to me, to me Manivtsi\n",
            "slyastilez to your hand, yours\n",
            "my own davayvalalaile\n",
            "with us Mother Teresa Diva Mary barefoot as if\n",
            "they were walking on\n",
            "the ground and Mother Teresa Diva  Maria the old virgin\n",
            "is free with us, mother\n",
            "Teresaya, the\n",
            "earthy\n",
            "Teresa,\n",
            "hegegegegegegegege, for ever since we were little. We\n",
            "were looking for a way to life, as if for those\n",
            "who fall on their shoulders, a little girl\n",
            "carried it with pain, it seems that she is falling again, not the\n",
            "same tone, the clothes on the bones are\n",
            "frightening.  to under the crown Where is your child, what is\n",
            "your life and the years of pain, those stints are\n",
            "limited and let someone want us to\n",
            "break Let someone charge you, don't\n",
            "be healed by a stick, let someone hide\n",
            "jealousy behind a smile of hatred When you\n",
            "let into your heart the Anger of good love forever,\n",
            "but in heaven there are saints  You plowed this land, you know, you\n",
            "took the path yourself, and it was not in vain, and let it\n",
            "be very dark and sometimes not easy, and with\n",
            "you there will always be\n",
            "pranks, ma\n",
            "resaiva\n",
            "maiyai field, mother teresa, the\n",
            "Virgin Mary, and a\n",
            "dream, mother\n",
            "teresa\n",
            "Mai, as if\n",
            "they had left\n",
            "the earth too, Mother  Teresa Diva Marie\n",
            "will die for\n",
            "you the world peace for ine\u001b[39m\n"
          ]
        }
      ],
      "source": [
        "import youtube_transcript_api as yt_api\n",
        "from pytubefix import YouTube\n",
        "from pytubefix.cli import on_progress\n",
        "\n",
        "def get_transcripts():\n",
        "    \"\"\" Extract existing transcript data from videos \"\"\"\n",
        "    for url in urls:\n",
        "        try: # Just so we can get the video title\n",
        "            yt = YouTube(url, on_progress_callback=on_progress)\n",
        "        except Exception as e:\n",
        "            logger.error(f\"Error processing URL '{url}'.\")\n",
        "            logger.debug(f\"The cause was: {e}\")\n",
        "            continue\n",
        "\n",
        "        logger.info(f\"Processing '{yt.title}'...\")\n",
        "        video_id = get_video_id(url)\n",
        "\n",
        "        try:\n",
        "            # By default, we get a list of 1: only get the preferred language transcript\n",
        "            transcript_list = yt_api.YouTubeTranscriptApi.list_transcripts(video_id)\n",
        "        except Exception as e:\n",
        "            logger.error(f\"Unable to extract transcript for '{yt.title}'.\")\n",
        "            logger.debug(e)\n",
        "            continue\n",
        "\n",
        "        # iterate over all available transcripts\n",
        "        for transcript in transcript_list:\n",
        "            # The Transcript object provides metadata properties. Here are some...\n",
        "            properties = {\n",
        "                \"video_id\": transcript.video_id,\n",
        "                \"language\": transcript.language,\n",
        "                \"language_code\": transcript.language_code,\n",
        "                \"is_generated\": transcript.is_generated,  # Whether it has been manually created or generated by YouTube\n",
        "                \"is_translatable\": transcript.is_translatable,  # Whether this transcript can be translated or not\n",
        "                \"translation_languages\": transcript.translation_languages,\n",
        "            }\n",
        "\n",
        "            for prop, value in properties.items():\n",
        "                logger.info(f\"{prop}: {value}\")\n",
        "\n",
        "            # Fetch the actual transcript data\n",
        "            transcript_data = transcript.fetch() # returns a list of dicts\n",
        "            logger.info(f\"Raw transcript:\\n{transcript_data}\")\n",
        "\n",
        "            processed_transcript = process_transcript(transcript_data)\n",
        "            logger.info(f\"Processed transcript:\\n{processed_transcript}\")\n",
        "\n",
        "            # Translate to en if we can\n",
        "            if (transcript.language_code != \"en\" and\n",
        "                    transcript.is_translatable and\n",
        "                    any(lang['language_code'] == 'en' for lang in transcript.translation_languages)):\n",
        "                transcript_data = transcript.translate('en').fetch() # translate to en\n",
        "                processed_transcript = process_transcript(transcript_data)\n",
        "                logger.info(f\"Processed translated transcript:\\n{processed_transcript}\")\n",
        "\n",
        "def process_transcript(transcript_data):\n",
        "    \"\"\" Get all entries that are of type 'text' and NOT starting with [ \"\"\"\n",
        "    return \"\\n\".join([entry['text'] for entry in transcript_data\n",
        "                                     if entry['text'][0] != \"[\"])\n",
        "\n",
        "get_transcripts()"
      ]
    },
    {
      "cell_type": "markdown",
      "metadata": {
        "id": "UGp2FVmv9ja8"
      },
      "source": [
        "How cool is this!?"
      ]
    },
    {
      "cell_type": "markdown",
      "metadata": {
        "id": "CIuFWZ_49ja8"
      },
      "source": [
        "## Adding Google Cloud Smarts\n",
        "\n",
        "Let's integrate some Google Cloud Vertex AI smarts. Start by installing the **Google Cloud Vertex AI SDK for Python**.\n",
        "\n",
        "From [Introduction to the Vertex AI SDK for Python](https://cloud.google.com/vertex-ai/docs/python-sdk/use-vertex-ai-python-sdk#sdk-vs-client-library):\n",
        "\n",
        "When you install the Vertex AI SDK for Python (`google.cloud.aiplatform`), the Vertex AI Python client library (`google.cloud.aiplatform.gapic`) is also installed. The Vertex AI SDK and the Vertex AI Python client library provide similar functionality with different levels of granularity. The Vertex AI SDK operates at a higher level of abstraction than the client library and is suitable for most common data science workflows. If you need lower-level functionality, then use the Vertex AI Python client library."
      ]
    },
    {
      "cell_type": "code",
      "execution_count": 19,
      "metadata": {
        "id": "exHDhNAU9ja9",
        "outputId": "a4aeacf6-081e-4b75-a19f-aadfd106dfbe",
        "colab": {
          "base_uri": "https://localhost:8080/",
          "height": 1000
        }
      },
      "outputs": [
        {
          "output_type": "stream",
          "name": "stdout",
          "text": [
            "Requirement already satisfied: google-cloud-aiplatform in /usr/local/lib/python3.10/dist-packages (1.70.0)\n",
            "Collecting google-cloud-aiplatform\n",
            "  Downloading google_cloud_aiplatform-1.71.1-py2.py3-none-any.whl.metadata (32 kB)\n",
            "Requirement already satisfied: google-generativeai in /usr/local/lib/python3.10/dist-packages (0.8.3)\n",
            "Requirement already satisfied: google-api-core!=2.0.*,!=2.1.*,!=2.2.*,!=2.3.*,!=2.4.*,!=2.5.*,!=2.6.*,!=2.7.*,<3.0.0dev,>=1.34.1 in /usr/local/lib/python3.10/dist-packages (from google-api-core[grpc]!=2.0.*,!=2.1.*,!=2.2.*,!=2.3.*,!=2.4.*,!=2.5.*,!=2.6.*,!=2.7.*,<3.0.0dev,>=1.34.1->google-cloud-aiplatform) (2.19.2)\n",
            "Requirement already satisfied: google-auth<3.0.0dev,>=2.14.1 in /usr/local/lib/python3.10/dist-packages (from google-cloud-aiplatform) (2.27.0)\n",
            "Requirement already satisfied: proto-plus<2.0.0dev,>=1.22.3 in /usr/local/lib/python3.10/dist-packages (from google-cloud-aiplatform) (1.25.0)\n",
            "Requirement already satisfied: protobuf!=4.21.0,!=4.21.1,!=4.21.2,!=4.21.3,!=4.21.4,!=4.21.5,<6.0.0dev,>=3.20.2 in /usr/local/lib/python3.10/dist-packages (from google-cloud-aiplatform) (3.20.3)\n",
            "Requirement already satisfied: packaging>=14.3 in /usr/local/lib/python3.10/dist-packages (from google-cloud-aiplatform) (24.1)\n",
            "Requirement already satisfied: google-cloud-storage<3.0.0dev,>=1.32.0 in /usr/local/lib/python3.10/dist-packages (from google-cloud-aiplatform) (2.8.0)\n",
            "Requirement already satisfied: google-cloud-bigquery!=3.20.0,<4.0.0dev,>=1.15.0 in /usr/local/lib/python3.10/dist-packages (from google-cloud-aiplatform) (3.25.0)\n",
            "Requirement already satisfied: google-cloud-resource-manager<3.0.0dev,>=1.3.3 in /usr/local/lib/python3.10/dist-packages (from google-cloud-aiplatform) (1.13.0)\n",
            "Requirement already satisfied: shapely<3.0.0dev in /usr/local/lib/python3.10/dist-packages (from google-cloud-aiplatform) (2.0.6)\n",
            "Requirement already satisfied: pydantic<3 in /usr/local/lib/python3.10/dist-packages (from google-cloud-aiplatform) (2.9.2)\n",
            "Requirement already satisfied: docstring-parser<1 in /usr/local/lib/python3.10/dist-packages (from google-cloud-aiplatform) (0.16)\n",
            "Requirement already satisfied: google-ai-generativelanguage==0.6.10 in /usr/local/lib/python3.10/dist-packages (from google-generativeai) (0.6.10)\n",
            "Requirement already satisfied: google-api-python-client in /usr/local/lib/python3.10/dist-packages (from google-generativeai) (2.137.0)\n",
            "Requirement already satisfied: tqdm in /usr/local/lib/python3.10/dist-packages (from google-generativeai) (4.66.6)\n",
            "Requirement already satisfied: typing-extensions in /usr/local/lib/python3.10/dist-packages (from google-generativeai) (4.12.2)\n",
            "Requirement already satisfied: googleapis-common-protos<2.0.dev0,>=1.56.2 in /usr/local/lib/python3.10/dist-packages (from google-api-core!=2.0.*,!=2.1.*,!=2.2.*,!=2.3.*,!=2.4.*,!=2.5.*,!=2.6.*,!=2.7.*,<3.0.0dev,>=1.34.1->google-api-core[grpc]!=2.0.*,!=2.1.*,!=2.2.*,!=2.3.*,!=2.4.*,!=2.5.*,!=2.6.*,!=2.7.*,<3.0.0dev,>=1.34.1->google-cloud-aiplatform) (1.65.0)\n",
            "Requirement already satisfied: requests<3.0.0.dev0,>=2.18.0 in /usr/local/lib/python3.10/dist-packages (from google-api-core!=2.0.*,!=2.1.*,!=2.2.*,!=2.3.*,!=2.4.*,!=2.5.*,!=2.6.*,!=2.7.*,<3.0.0dev,>=1.34.1->google-api-core[grpc]!=2.0.*,!=2.1.*,!=2.2.*,!=2.3.*,!=2.4.*,!=2.5.*,!=2.6.*,!=2.7.*,<3.0.0dev,>=1.34.1->google-cloud-aiplatform) (2.32.3)\n",
            "Requirement already satisfied: grpcio<2.0dev,>=1.33.2 in /usr/local/lib/python3.10/dist-packages (from google-api-core[grpc]!=2.0.*,!=2.1.*,!=2.2.*,!=2.3.*,!=2.4.*,!=2.5.*,!=2.6.*,!=2.7.*,<3.0.0dev,>=1.34.1->google-cloud-aiplatform) (1.64.1)\n",
            "Requirement already satisfied: grpcio-status<2.0.dev0,>=1.33.2 in /usr/local/lib/python3.10/dist-packages (from google-api-core[grpc]!=2.0.*,!=2.1.*,!=2.2.*,!=2.3.*,!=2.4.*,!=2.5.*,!=2.6.*,!=2.7.*,<3.0.0dev,>=1.34.1->google-cloud-aiplatform) (1.48.2)\n",
            "Requirement already satisfied: cachetools<6.0,>=2.0.0 in /usr/local/lib/python3.10/dist-packages (from google-auth<3.0.0dev,>=2.14.1->google-cloud-aiplatform) (5.5.0)\n",
            "Requirement already satisfied: pyasn1-modules>=0.2.1 in /usr/local/lib/python3.10/dist-packages (from google-auth<3.0.0dev,>=2.14.1->google-cloud-aiplatform) (0.4.1)\n",
            "Requirement already satisfied: rsa<5,>=3.1.4 in /usr/local/lib/python3.10/dist-packages (from google-auth<3.0.0dev,>=2.14.1->google-cloud-aiplatform) (4.9)\n",
            "Requirement already satisfied: google-cloud-core<3.0.0dev,>=1.6.0 in /usr/local/lib/python3.10/dist-packages (from google-cloud-bigquery!=3.20.0,<4.0.0dev,>=1.15.0->google-cloud-aiplatform) (2.4.1)\n",
            "Requirement already satisfied: google-resumable-media<3.0dev,>=0.6.0 in /usr/local/lib/python3.10/dist-packages (from google-cloud-bigquery!=3.20.0,<4.0.0dev,>=1.15.0->google-cloud-aiplatform) (2.7.2)\n",
            "Requirement already satisfied: python-dateutil<3.0dev,>=2.7.2 in /usr/local/lib/python3.10/dist-packages (from google-cloud-bigquery!=3.20.0,<4.0.0dev,>=1.15.0->google-cloud-aiplatform) (2.8.2)\n",
            "Requirement already satisfied: grpc-google-iam-v1<1.0.0dev,>=0.12.4 in /usr/local/lib/python3.10/dist-packages (from google-cloud-resource-manager<3.0.0dev,>=1.3.3->google-cloud-aiplatform) (0.13.1)\n",
            "Requirement already satisfied: annotated-types>=0.6.0 in /usr/local/lib/python3.10/dist-packages (from pydantic<3->google-cloud-aiplatform) (0.7.0)\n",
            "Requirement already satisfied: pydantic-core==2.23.4 in /usr/local/lib/python3.10/dist-packages (from pydantic<3->google-cloud-aiplatform) (2.23.4)\n",
            "Requirement already satisfied: numpy<3,>=1.14 in /usr/local/lib/python3.10/dist-packages (from shapely<3.0.0dev->google-cloud-aiplatform) (1.26.4)\n",
            "Requirement already satisfied: httplib2<1.dev0,>=0.19.0 in /usr/local/lib/python3.10/dist-packages (from google-api-python-client->google-generativeai) (0.22.0)\n",
            "Requirement already satisfied: google-auth-httplib2<1.0.0,>=0.2.0 in /usr/local/lib/python3.10/dist-packages (from google-api-python-client->google-generativeai) (0.2.0)\n",
            "Requirement already satisfied: uritemplate<5,>=3.0.1 in /usr/local/lib/python3.10/dist-packages (from google-api-python-client->google-generativeai) (4.1.1)\n",
            "Requirement already satisfied: google-crc32c<2.0dev,>=1.0 in /usr/local/lib/python3.10/dist-packages (from google-resumable-media<3.0dev,>=0.6.0->google-cloud-bigquery!=3.20.0,<4.0.0dev,>=1.15.0->google-cloud-aiplatform) (1.6.0)\n",
            "Requirement already satisfied: pyparsing!=3.0.0,!=3.0.1,!=3.0.2,!=3.0.3,<4,>=2.4.2 in /usr/local/lib/python3.10/dist-packages (from httplib2<1.dev0,>=0.19.0->google-api-python-client->google-generativeai) (3.2.0)\n",
            "Requirement already satisfied: pyasn1<0.7.0,>=0.4.6 in /usr/local/lib/python3.10/dist-packages (from pyasn1-modules>=0.2.1->google-auth<3.0.0dev,>=2.14.1->google-cloud-aiplatform) (0.6.1)\n",
            "Requirement already satisfied: six>=1.5 in /usr/local/lib/python3.10/dist-packages (from python-dateutil<3.0dev,>=2.7.2->google-cloud-bigquery!=3.20.0,<4.0.0dev,>=1.15.0->google-cloud-aiplatform) (1.16.0)\n",
            "Requirement already satisfied: charset-normalizer<4,>=2 in /usr/local/lib/python3.10/dist-packages (from requests<3.0.0.dev0,>=2.18.0->google-api-core!=2.0.*,!=2.1.*,!=2.2.*,!=2.3.*,!=2.4.*,!=2.5.*,!=2.6.*,!=2.7.*,<3.0.0dev,>=1.34.1->google-api-core[grpc]!=2.0.*,!=2.1.*,!=2.2.*,!=2.3.*,!=2.4.*,!=2.5.*,!=2.6.*,!=2.7.*,<3.0.0dev,>=1.34.1->google-cloud-aiplatform) (3.4.0)\n",
            "Requirement already satisfied: idna<4,>=2.5 in /usr/local/lib/python3.10/dist-packages (from requests<3.0.0.dev0,>=2.18.0->google-api-core!=2.0.*,!=2.1.*,!=2.2.*,!=2.3.*,!=2.4.*,!=2.5.*,!=2.6.*,!=2.7.*,<3.0.0dev,>=1.34.1->google-api-core[grpc]!=2.0.*,!=2.1.*,!=2.2.*,!=2.3.*,!=2.4.*,!=2.5.*,!=2.6.*,!=2.7.*,<3.0.0dev,>=1.34.1->google-cloud-aiplatform) (3.10)\n",
            "Requirement already satisfied: urllib3<3,>=1.21.1 in /usr/local/lib/python3.10/dist-packages (from requests<3.0.0.dev0,>=2.18.0->google-api-core!=2.0.*,!=2.1.*,!=2.2.*,!=2.3.*,!=2.4.*,!=2.5.*,!=2.6.*,!=2.7.*,<3.0.0dev,>=1.34.1->google-api-core[grpc]!=2.0.*,!=2.1.*,!=2.2.*,!=2.3.*,!=2.4.*,!=2.5.*,!=2.6.*,!=2.7.*,<3.0.0dev,>=1.34.1->google-cloud-aiplatform) (2.2.3)\n",
            "Requirement already satisfied: certifi>=2017.4.17 in /usr/local/lib/python3.10/dist-packages (from requests<3.0.0.dev0,>=2.18.0->google-api-core!=2.0.*,!=2.1.*,!=2.2.*,!=2.3.*,!=2.4.*,!=2.5.*,!=2.6.*,!=2.7.*,<3.0.0dev,>=1.34.1->google-api-core[grpc]!=2.0.*,!=2.1.*,!=2.2.*,!=2.3.*,!=2.4.*,!=2.5.*,!=2.6.*,!=2.7.*,<3.0.0dev,>=1.34.1->google-cloud-aiplatform) (2024.8.30)\n",
            "Downloading google_cloud_aiplatform-1.71.1-py2.py3-none-any.whl (6.2 MB)\n",
            "\u001b[2K   \u001b[90m━━━━━━━━━━━━━━━━━━━━━━━━━━━━━━━━━━━━━━━━\u001b[0m \u001b[32m6.2/6.2 MB\u001b[0m \u001b[31m30.2 MB/s\u001b[0m eta \u001b[36m0:00:00\u001b[0m\n",
            "\u001b[?25hInstalling collected packages: google-cloud-aiplatform\n",
            "  Attempting uninstall: google-cloud-aiplatform\n",
            "    Found existing installation: google-cloud-aiplatform 1.70.0\n",
            "    Uninstalling google-cloud-aiplatform-1.70.0:\n",
            "      Successfully uninstalled google-cloud-aiplatform-1.70.0\n",
            "Successfully installed google-cloud-aiplatform-1.71.1\n"
          ]
        },
        {
          "output_type": "display_data",
          "data": {
            "application/vnd.colab-display-data+json": {
              "pip_warning": {
                "packages": [
                  "google"
                ]
              },
              "id": "7abc1163492749268e44e28f01dae637"
            }
          },
          "metadata": {}
        }
      ],
      "source": [
        "# Install Vertex AI SDK for Python and Vertex Generative AI SDK for Python\n",
        "%pip install --upgrade google-cloud-aiplatform google-generativeai"
      ]
    },
    {
      "cell_type": "code",
      "execution_count": 20,
      "metadata": {
        "id": "9VpOed4k9ja-",
        "outputId": "781f9411-0239-4262-c1d1-80da5989ef71",
        "colab": {
          "base_uri": "https://localhost:8080/"
        }
      },
      "outputs": [
        {
          "metadata": {
            "tags": null
          },
          "name": "stderr",
          "output_type": "stream",
          "text": [
            "DEBUG:__name__:Trying .env at /content/.env\n",
            "DEBUG:__name__:Trying .env at /.env\n",
            "DEBUG:__name__:Trying .env at /.env\n",
            "WARNING:__name__:No .env file found.\n",
            "\u001b[32m15:05:40.924:dazbo-yt-demos - INF: PROJECT_ID retrieved: 345\u001b[39m\n"
          ]
        },
        {
          "name": "stdout",
          "output_type": "stream",
          "text": [
            "Enter REGION: ··········\n"
          ]
        },
        {
          "output_type": "stream",
          "name": "stderr",
          "text": [
            "\u001b[32m15:17:34.574:dazbo-yt-demos - INF: REGION retrieved: FR\u001b[39m\n"
          ]
        }
      ],
      "source": [
        "from google.cloud import aiplatform # Google Cloud Vertex AI SDK for Python\n",
        "# import vertexai   # Google Cloud Vertex Generative AI SDK for Python\n",
        "import google.generativeai as genai  # Google Gemini API (GenAI)\n",
        "from vertexai.generative_models import GenerativeModel\n",
        "\n",
        "import sys\n",
        "from getpass import getpass\n",
        "\n",
        "# If we're running Google Colab, authenticate\n",
        "if \"google.colab\" in sys.modules:\n",
        "    from google.colab import auth\n",
        "    auth.authenticate_user()\n",
        "\n",
        "# Retrieve PROJECT_ID and other variables from any .env we can find\n",
        "try:\n",
        "    dc.get_envs_from_file()\n",
        "except ValueError as e:\n",
        "    logger.error(f\"Problem reading env file:\\n{e}\")\n",
        "\n",
        "env_vars = [\"PROJECT_ID\", \"REGION\"] # The vars we want to retrieve\n",
        "for env_var in env_vars:\n",
        "    if not os.getenv(env_var):\n",
        "        gcp_project_id = '' # @param {type: \"string\"}\n",
        "        # If not retrieved from .env we'll need to input the value\n",
        "        os.environ[env_var] = getpass(f\"Enter {env_var}: \")\n",
        "\n",
        "    # Set Python variable of the same name as the env var, e.g. PROJECT_ID\n",
        "    globals()[env_var] = os.environ[env_var]\n",
        "    val = globals()[env_var]\n",
        "    if env_var == \"PROJECT_ID\":\n",
        "        logger.info(f\"{env_var} retrieved: {val[-3:]}\")\n",
        "    else:\n",
        "        logger.info(f\"{env_var} retrieved: {val}\")"
      ]
    },
    {
      "cell_type": "markdown",
      "metadata": {
        "id": "8VrO5qZo9ja_"
      },
      "source": [
        "Only run the next cell if you want to manually clear the environment variables and then input new values. In this scenario, you'll also want to comment out any variables in your .env file."
      ]
    },
    {
      "cell_type": "code",
      "execution_count": 21,
      "metadata": {
        "id": "gOopOuEu9ja_",
        "outputId": "b23130c5-73d4-4d35-ac05-0e40ee7f2bd7",
        "colab": {
          "base_uri": "https://localhost:8080/"
        }
      },
      "outputs": [
        {
          "output_type": "stream",
          "name": "stderr",
          "text": [
            "\u001b[32m15:17:34.598:dazbo-yt-demos - INF: Cleared environment variable: PROJECT_ID\u001b[39m\n",
            "\u001b[32m15:17:34.600:dazbo-yt-demos - INF: Cleared environment variable: REGION\u001b[39m\n"
          ]
        }
      ],
      "source": [
        "# Optionally run this if we want to clear env vars\n",
        "for env_var in env_vars:\n",
        "    if env_var in os.environ:\n",
        "        del os.environ[env_var]\n",
        "        logger.info(f\"Cleared environment variable: {env_var}\")"
      ]
    }
  ],
  "metadata": {
    "kernelspec": {
      "display_name": ".venv",
      "language": "python",
      "name": "python3"
    },
    "language_info": {
      "codemirror_mode": {
        "name": "ipython",
        "version": 3
      },
      "file_extension": ".py",
      "mimetype": "text/x-python",
      "name": "python",
      "nbconvert_exporter": "python",
      "pygments_lexer": "ipython3",
      "version": "3.11.6"
    },
    "colab": {
      "provenance": []
    }
  },
  "nbformat": 4,
  "nbformat_minor": 0
}